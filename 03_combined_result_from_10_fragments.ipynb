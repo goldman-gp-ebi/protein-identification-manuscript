{
 "cells": [
  {
   "cell_type": "code",
   "execution_count": 1,
   "id": "ce17a9b5",
   "metadata": {},
   "outputs": [
    {
     "name": "stderr",
     "output_type": "stream",
     "text": [
      "<frozen importlib._bootstrap>:228: RuntimeWarning: scipy._lib.messagestream.MessageStream size changed, may indicate binary incompatibility. Expected 56 from C header, got 64 from PyObject\n"
     ]
    },
    {
     "name": "stdout",
     "output_type": "stream",
     "text": [
      "INFO: Pandarallel will run on 48 workers.\n",
      "INFO: Pandarallel will use Memory file system to transfer data between the main process and workers.\n"
     ]
    }
   ],
   "source": [
    "import os\n",
    "import shutil\n",
    "import pandas as pd\n",
    "import numpy as np\n",
    "from multiprocessing import Pool, cpu_count\n",
    "from functools import partial\n",
    "import matplotlib.pyplot as plt\n",
    "import seaborn as sns\n",
    "sns.set_context(\"paper\", font_scale=1.5)\n",
    "sns.set_style('white')\n",
    "\n",
    "from functions import *\n",
    "\n",
    "from pandarallel import pandarallel\n",
    "\n",
    "pandarallel.initialize(progress_bar=False)\n",
    "\n",
    "with SequenceFile(\"data/uniprot-9606.fasta\", digital=True, alphabet=alphabet) as seq_file:\n",
    "    sequences = list(seq_file)\n",
    "    \n",
    "\n",
    "uniprot = fasta_reader('data/uniprot-9606.fasta')"
   ]
  },
  {
   "cell_type": "code",
   "execution_count": 2,
   "id": "9558739f",
   "metadata": {},
   "outputs": [],
   "source": [
    "aa_known = 'ACDEFGHIKLMNPQRSTVWY'\n",
    "prob_range = [0.9, 0.8, 0.6, 0.4, 0.2, 0.3, 0.1, 0.09, 0.08, 0.07, 0.06, 0.05]\n",
    "repeats = 10\n",
    "\n",
    "\n",
    "lengths = [100, 50, 25, 15, 10, 5]\n"
   ]
  },
  {
   "cell_type": "code",
   "execution_count": 3,
   "id": "4e231710",
   "metadata": {},
   "outputs": [],
   "source": [
    "def combine_scores(query, all_dfs):\n",
    "    try:\n",
    "        temp_df = pd.concat([i[i.Query == query] for i in all_dfs]).reset_index(drop=True)\n",
    "        summed = temp_df.groupby('Accession')['Score'].sum().sort_values(ascending=False)\n",
    "        return summed.index[0]\n",
    "    except Exception as exp:\n",
    "        if temp_df.size == 0:\n",
    "            return 'No hits for this accession (not found)'\n",
    "        else:\n",
    "            return str(exp)"
   ]
  },
  {
   "cell_type": "code",
   "execution_count": 4,
   "id": "c3775f40",
   "metadata": {},
   "outputs": [],
   "source": [
    "def stats_accuracy(prob, length, repeats=10):\n",
    "    \n",
    "    all_dfs = []\n",
    "    for r in range(repeats):\n",
    "\n",
    "        fname = 'results/scan_results/' + f'{r}_frag_length_{length}_{aa_known}_max_prob_{prob}_del.pkl.gz'\n",
    "        test_df = pd.read_pickle(fname)\n",
    "        all_dfs.append(test_df)\n",
    "    \n",
    "    results0 = pd.DataFrame({'Query': uniprot.Accession})\n",
    "    results0['Accession'] = results0['Query'].parallel_apply(lambda x: combine_scores(x, all_dfs))\n",
    "    \n",
    "    # accuracy\n",
    "    acc = results0[results0['Query'] == results0['Accession']].shape[0]/results0.shape[0]\n",
    "    del results0, all_dfs\n",
    "    return acc\n",
    "    "
   ]
  },
  {
   "cell_type": "code",
   "execution_count": 33,
   "id": "707e720f",
   "metadata": {},
   "outputs": [
    {
     "data": {
      "text/html": [
       "<div>\n",
       "<style scoped>\n",
       "    .dataframe tbody tr th:only-of-type {\n",
       "        vertical-align: middle;\n",
       "    }\n",
       "\n",
       "    .dataframe tbody tr th {\n",
       "        vertical-align: top;\n",
       "    }\n",
       "\n",
       "    .dataframe thead th {\n",
       "        text-align: right;\n",
       "    }\n",
       "</style>\n",
       "<table border=\"1\" class=\"dataframe\">\n",
       "  <thead>\n",
       "    <tr style=\"text-align: right;\">\n",
       "      <th></th>\n",
       "      <th>known aa</th>\n",
       "      <th>max_prob</th>\n",
       "      <th>total queries</th>\n",
       "      <th>hits</th>\n",
       "      <th>identified</th>\n",
       "      <th>fragment#</th>\n",
       "      <th>identified_frac</th>\n",
       "      <th>Type</th>\n",
       "    </tr>\n",
       "  </thead>\n",
       "  <tbody>\n",
       "    <tr>\n",
       "      <th>0</th>\n",
       "      <td>ACDEFGHIKLMNPQRSTVWY</td>\n",
       "      <td>0.9</td>\n",
       "      <td>20181</td>\n",
       "      <td>20178</td>\n",
       "      <td>19446</td>\n",
       "      <td>0</td>\n",
       "      <td>0.96358</td>\n",
       "      <td>100 AA</td>\n",
       "    </tr>\n",
       "    <tr>\n",
       "      <th>1</th>\n",
       "      <td>ACDEFGHIKLMNPQRSTVWY</td>\n",
       "      <td>0.8</td>\n",
       "      <td>20181</td>\n",
       "      <td>20179</td>\n",
       "      <td>19436</td>\n",
       "      <td>0</td>\n",
       "      <td>0.963084</td>\n",
       "      <td>100 AA</td>\n",
       "    </tr>\n",
       "  </tbody>\n",
       "</table>\n",
       "</div>"
      ],
      "text/plain": [
       "               known aa  max_prob total queries   hits identified fragment#  \\\n",
       "0  ACDEFGHIKLMNPQRSTVWY       0.9         20181  20178      19446         0   \n",
       "1  ACDEFGHIKLMNPQRSTVWY       0.8         20181  20179      19436         0   \n",
       "\n",
       "  identified_frac    Type  \n",
       "0         0.96358  100 AA  \n",
       "1        0.963084  100 AA  "
      ]
     },
     "execution_count": 33,
     "metadata": {},
     "output_type": "execute_result"
    }
   ],
   "source": [
    "# pd.read_pickle('results/all_fragments_all_AA_no_indels.pkl.gz').head(2)"
   ]
  },
  {
   "cell_type": "code",
   "execution_count": 5,
   "id": "70792a42",
   "metadata": {},
   "outputs": [
    {
     "data": {
      "text/html": [
       "<div>\n",
       "<style scoped>\n",
       "    .dataframe tbody tr th:only-of-type {\n",
       "        vertical-align: middle;\n",
       "    }\n",
       "\n",
       "    .dataframe tbody tr th {\n",
       "        vertical-align: top;\n",
       "    }\n",
       "\n",
       "    .dataframe thead th {\n",
       "        text-align: right;\n",
       "    }\n",
       "</style>\n",
       "<table border=\"1\" class=\"dataframe\">\n",
       "  <thead>\n",
       "    <tr style=\"text-align: right;\">\n",
       "      <th></th>\n",
       "      <th>known aa</th>\n",
       "      <th>max_prob</th>\n",
       "      <th>identified_frac</th>\n",
       "      <th>Type</th>\n",
       "    </tr>\n",
       "  </thead>\n",
       "  <tbody>\n",
       "  </tbody>\n",
       "</table>\n",
       "</div>"
      ],
      "text/plain": [
       "Empty DataFrame\n",
       "Columns: [known aa, max_prob, identified_frac, Type]\n",
       "Index: []"
      ]
     },
     "execution_count": 5,
     "metadata": {},
     "output_type": "execute_result"
    }
   ],
   "source": [
    "all_results = pd.DataFrame(columns=['known aa', 'max_prob', 'identified_frac', 'Type'])\n",
    "all_results"
   ]
  },
  {
   "cell_type": "code",
   "execution_count": 6,
   "id": "84ea76cb",
   "metadata": {},
   "outputs": [],
   "source": [
    "total_queries = uniprot.shape[0]"
   ]
  },
  {
   "cell_type": "code",
   "execution_count": null,
   "id": "c3065048",
   "metadata": {},
   "outputs": [],
   "source": []
  },
  {
   "cell_type": "code",
   "execution_count": 7,
   "id": "f6003fff",
   "metadata": {},
   "outputs": [
    {
     "name": "stdout",
     "output_type": "stream",
     "text": [
      "72\r"
     ]
    }
   ],
   "source": [
    "#### This takes a LOT of time!\n",
    "aa_known = 'ACDEFGHIKLMNPQRSTVWY'\n",
    "prob_range = [0.9, 0.8, 0.6, 0.4, 0.3, 0.2, 0.1, 0.09, 0.08, 0.07, 0.06, 0.05]\n",
    "repeats = 10\n",
    "\n",
    "\n",
    "lengths = [100, 50, 25, 15, 10, 5]\n",
    "\n",
    "counter = 0\n",
    "for prob in prob_range:\n",
    "    for length in lengths:\n",
    "        all_results.loc[counter] = [aa_known, prob, stats_accuracy(prob, length), f'{length} AA', ]\n",
    "        counter += 1\n",
    "        print(counter, end='\\r')\n",
    "#1:18:50"
   ]
  },
  {
   "cell_type": "code",
   "execution_count": 9,
   "id": "83fb823b",
   "metadata": {},
   "outputs": [],
   "source": [
    "all_results.to_pickle('results/frag_combined_all_aa_no_indels.pkl.gz')"
   ]
  },
  {
   "cell_type": "code",
   "execution_count": 10,
   "id": "727469c6",
   "metadata": {},
   "outputs": [],
   "source": [
    "all_results = pd.read_pickle('results/frag_combined_all_aa_no_indels.pkl.gz')"
   ]
  },
  {
   "cell_type": "code",
   "execution_count": 11,
   "id": "d3e2c42e",
   "metadata": {},
   "outputs": [],
   "source": [
    "frag_full_all_aa = pd.read_pickle('results/frag_and_full_len_all_aa_no_indels_.pkl.gz')"
   ]
  },
  {
   "cell_type": "code",
   "execution_count": 12,
   "id": "75a6638b",
   "metadata": {},
   "outputs": [],
   "source": [
    "full_len = frag_full_all_aa[frag_full_all_aa['Type'] == 'Full length']\n",
    "all_results1 = pd.concat([full_len[all_results.columns], all_results, ]).reset_index(drop=True)"
   ]
  },
  {
   "cell_type": "code",
   "execution_count": 13,
   "id": "ef15e05f",
   "metadata": {},
   "outputs": [
    {
     "data": {
      "text/html": [
       "<div>\n",
       "<style scoped>\n",
       "    .dataframe tbody tr th:only-of-type {\n",
       "        vertical-align: middle;\n",
       "    }\n",
       "\n",
       "    .dataframe tbody tr th {\n",
       "        vertical-align: top;\n",
       "    }\n",
       "\n",
       "    .dataframe thead th {\n",
       "        text-align: right;\n",
       "    }\n",
       "</style>\n",
       "<table border=\"1\" class=\"dataframe\">\n",
       "  <thead>\n",
       "    <tr style=\"text-align: right;\">\n",
       "      <th></th>\n",
       "      <th></th>\n",
       "      <th>identified_frac</th>\n",
       "    </tr>\n",
       "    <tr>\n",
       "      <th>Type</th>\n",
       "      <th>max_prob</th>\n",
       "      <th></th>\n",
       "    </tr>\n",
       "  </thead>\n",
       "  <tbody>\n",
       "    <tr>\n",
       "      <th>10 AA</th>\n",
       "      <th>0.2</th>\n",
       "      <td>0.051291</td>\n",
       "    </tr>\n",
       "    <tr>\n",
       "      <th>100 AA</th>\n",
       "      <th>0.2</th>\n",
       "      <td>0.960359</td>\n",
       "    </tr>\n",
       "    <tr>\n",
       "      <th>15 AA</th>\n",
       "      <th>0.2</th>\n",
       "      <td>0.703880</td>\n",
       "    </tr>\n",
       "    <tr>\n",
       "      <th>25 AA</th>\n",
       "      <th>0.2</th>\n",
       "      <td>0.940880</td>\n",
       "    </tr>\n",
       "    <tr>\n",
       "      <th>5 AA</th>\n",
       "      <th>0.2</th>\n",
       "      <td>0.000213</td>\n",
       "    </tr>\n",
       "    <tr>\n",
       "      <th>50 AA</th>\n",
       "      <th>0.2</th>\n",
       "      <td>0.953090</td>\n",
       "    </tr>\n",
       "    <tr>\n",
       "      <th>Full length</th>\n",
       "      <th>0.2</th>\n",
       "      <td>0.983995</td>\n",
       "    </tr>\n",
       "  </tbody>\n",
       "</table>\n",
       "</div>"
      ],
      "text/plain": [
       "                      identified_frac\n",
       "Type        max_prob                 \n",
       "10 AA       0.2              0.051291\n",
       "100 AA      0.2              0.960359\n",
       "15 AA       0.2              0.703880\n",
       "25 AA       0.2              0.940880\n",
       "5 AA        0.2              0.000213\n",
       "50 AA       0.2              0.953090\n",
       "Full length 0.2              0.983995"
      ]
     },
     "execution_count": 13,
     "metadata": {},
     "output_type": "execute_result"
    }
   ],
   "source": [
    "groupedby = pd.DataFrame(frag_full_all_aa.groupby(['Type', 'max_prob', ])['identified_frac'].mean())\n",
    "groupedby.query('max_prob == 0.2')"
   ]
  },
  {
   "cell_type": "code",
   "execution_count": 239,
   "id": "f01f4e71",
   "metadata": {},
   "outputs": [
    {
     "data": {
      "text/html": [
       "<div>\n",
       "<style scoped>\n",
       "    .dataframe tbody tr th:only-of-type {\n",
       "        vertical-align: middle;\n",
       "    }\n",
       "\n",
       "    .dataframe tbody tr th {\n",
       "        vertical-align: top;\n",
       "    }\n",
       "\n",
       "    .dataframe thead th {\n",
       "        text-align: right;\n",
       "    }\n",
       "</style>\n",
       "<table border=\"1\" class=\"dataframe\">\n",
       "  <thead>\n",
       "    <tr style=\"text-align: right;\">\n",
       "      <th></th>\n",
       "      <th>known aa</th>\n",
       "      <th>max_prob</th>\n",
       "      <th>identified_frac</th>\n",
       "      <th>Type</th>\n",
       "    </tr>\n",
       "  </thead>\n",
       "  <tbody>\n",
       "    <tr>\n",
       "      <th>15</th>\n",
       "      <td>ACDEFGHIKLMNPQRSTVWY</td>\n",
       "      <td>0.90</td>\n",
       "      <td>0.968485</td>\n",
       "      <td>10 AA</td>\n",
       "    </tr>\n",
       "    <tr>\n",
       "      <th>21</th>\n",
       "      <td>ACDEFGHIKLMNPQRSTVWY</td>\n",
       "      <td>0.80</td>\n",
       "      <td>0.969377</td>\n",
       "      <td>10 AA</td>\n",
       "    </tr>\n",
       "    <tr>\n",
       "      <th>27</th>\n",
       "      <td>ACDEFGHIKLMNPQRSTVWY</td>\n",
       "      <td>0.60</td>\n",
       "      <td>0.968237</td>\n",
       "      <td>10 AA</td>\n",
       "    </tr>\n",
       "    <tr>\n",
       "      <th>33</th>\n",
       "      <td>ACDEFGHIKLMNPQRSTVWY</td>\n",
       "      <td>0.40</td>\n",
       "      <td>0.966206</td>\n",
       "      <td>10 AA</td>\n",
       "    </tr>\n",
       "    <tr>\n",
       "      <th>39</th>\n",
       "      <td>ACDEFGHIKLMNPQRSTVWY</td>\n",
       "      <td>0.20</td>\n",
       "      <td>0.223081</td>\n",
       "      <td>10 AA</td>\n",
       "    </tr>\n",
       "    <tr>\n",
       "      <th>45</th>\n",
       "      <td>ACDEFGHIKLMNPQRSTVWY</td>\n",
       "      <td>0.10</td>\n",
       "      <td>0.0</td>\n",
       "      <td>10 AA</td>\n",
       "    </tr>\n",
       "    <tr>\n",
       "      <th>51</th>\n",
       "      <td>ACDEFGHIKLMNPQRSTVWY</td>\n",
       "      <td>0.09</td>\n",
       "      <td>0.0</td>\n",
       "      <td>10 AA</td>\n",
       "    </tr>\n",
       "    <tr>\n",
       "      <th>57</th>\n",
       "      <td>ACDEFGHIKLMNPQRSTVWY</td>\n",
       "      <td>0.08</td>\n",
       "      <td>0.0</td>\n",
       "      <td>10 AA</td>\n",
       "    </tr>\n",
       "    <tr>\n",
       "      <th>63</th>\n",
       "      <td>ACDEFGHIKLMNPQRSTVWY</td>\n",
       "      <td>0.07</td>\n",
       "      <td>0.0</td>\n",
       "      <td>10 AA</td>\n",
       "    </tr>\n",
       "    <tr>\n",
       "      <th>69</th>\n",
       "      <td>ACDEFGHIKLMNPQRSTVWY</td>\n",
       "      <td>0.06</td>\n",
       "      <td>0.0</td>\n",
       "      <td>10 AA</td>\n",
       "    </tr>\n",
       "    <tr>\n",
       "      <th>75</th>\n",
       "      <td>ACDEFGHIKLMNPQRSTVWY</td>\n",
       "      <td>0.05</td>\n",
       "      <td>0.0</td>\n",
       "      <td>10 AA</td>\n",
       "    </tr>\n",
       "  </tbody>\n",
       "</table>\n",
       "</div>"
      ],
      "text/plain": [
       "                known aa  max_prob identified_frac   Type\n",
       "15  ACDEFGHIKLMNPQRSTVWY      0.90        0.968485  10 AA\n",
       "21  ACDEFGHIKLMNPQRSTVWY      0.80        0.969377  10 AA\n",
       "27  ACDEFGHIKLMNPQRSTVWY      0.60        0.968237  10 AA\n",
       "33  ACDEFGHIKLMNPQRSTVWY      0.40        0.966206  10 AA\n",
       "39  ACDEFGHIKLMNPQRSTVWY      0.20        0.223081  10 AA\n",
       "45  ACDEFGHIKLMNPQRSTVWY      0.10             0.0  10 AA\n",
       "51  ACDEFGHIKLMNPQRSTVWY      0.09             0.0  10 AA\n",
       "57  ACDEFGHIKLMNPQRSTVWY      0.08             0.0  10 AA\n",
       "63  ACDEFGHIKLMNPQRSTVWY      0.07             0.0  10 AA\n",
       "69  ACDEFGHIKLMNPQRSTVWY      0.06             0.0  10 AA\n",
       "75  ACDEFGHIKLMNPQRSTVWY      0.05             0.0  10 AA"
      ]
     },
     "execution_count": 239,
     "metadata": {},
     "output_type": "execute_result"
    }
   ],
   "source": [
    "all_results1[all_results1['Type'] == '10 AA']"
   ]
  },
  {
   "cell_type": "code",
   "execution_count": 15,
   "id": "fedc4b4d",
   "metadata": {},
   "outputs": [
    {
     "name": "stderr",
     "output_type": "stream",
     "text": [
      "/homes/bikash/anaconda3/lib/python3.9/site-packages/matplotlib/axes/_base.py:2283: UserWarning: Warning: converting a masked element to nan.\n",
      "  xys = np.asarray(xys)\n"
     ]
    },
    {
     "data": {
      "image/png": "[encoded data removed]",
      "text/plain": [
       "<Figure size 576x288 with 1 Axes>"
      ]
     },
     "metadata": {},
     "output_type": "display_data"
    }
   ],
   "source": [
    "posts = [0.9, 0.8, 0.6, 0.4, 0.3, 0.2]\n",
    "plt.figure(figsize=(8, 4))\n",
    "# ax = sns.pointplot(data=frag_full_all_aa[frag_full_all_aa['max_prob'].apply(lambda x: x in posts)], \\\n",
    "#                      x='max_prob', y='identified_frac', hue='Type', \\\n",
    "#                   palette=\"Set1\", markers=list('o^sP*XD'), scale=1.2)\n",
    "ax = sns.lineplot(data=frag_full_all_aa[frag_full_all_aa['max_prob'].apply(lambda x: x in posts)], \\\n",
    "                     x='max_prob', y='identified_frac', hue='Type', \\\n",
    "                   marker='D', markersize=6, lw=2.5, err_style='bars', legend=None, \\\n",
    "                 )\n",
    "ax = sns.lineplot(data=all_results1[all_results1['max_prob'].apply(lambda x: x in posts)], \\\n",
    "                     x='max_prob', y='identified_frac', hue='Type', \\\n",
    "                   marker='o', markersize=6, lw=2.5, linestyle=':')\n",
    "ax.set_xlabel(r'${p_{max}}$')\n",
    "ax.set_ylabel('Accuracy');\n",
    "sns.move_legend(ax, \"upper left\", bbox_to_anchor=(1, 1));\n",
    "plt.savefig('figs/fig2_with_combined_result.pdf', bbox_inches='tight');"
   ]
  },
  {
   "cell_type": "code",
   "execution_count": 30,
   "id": "d1002ecc",
   "metadata": {},
   "outputs": [
    {
     "data": {
      "text/html": [
       "<div>\n",
       "<style scoped>\n",
       "    .dataframe tbody tr th:only-of-type {\n",
       "        vertical-align: middle;\n",
       "    }\n",
       "\n",
       "    .dataframe tbody tr th {\n",
       "        vertical-align: top;\n",
       "    }\n",
       "\n",
       "    .dataframe thead th {\n",
       "        text-align: right;\n",
       "    }\n",
       "</style>\n",
       "<table border=\"1\" class=\"dataframe\">\n",
       "  <thead>\n",
       "    <tr style=\"text-align: right;\">\n",
       "      <th></th>\n",
       "      <th>known aa</th>\n",
       "      <th>max_prob</th>\n",
       "      <th>identified_frac</th>\n",
       "      <th>Type</th>\n",
       "    </tr>\n",
       "  </thead>\n",
       "  <tbody>\n",
       "    <tr>\n",
       "      <th>16</th>\n",
       "      <td>ACDEFGHIKLMNPQRSTVWY</td>\n",
       "      <td>0.9</td>\n",
       "      <td>0.968485</td>\n",
       "      <td>10 AA</td>\n",
       "    </tr>\n",
       "    <tr>\n",
       "      <th>22</th>\n",
       "      <td>ACDEFGHIKLMNPQRSTVWY</td>\n",
       "      <td>0.8</td>\n",
       "      <td>0.969377</td>\n",
       "      <td>10 AA</td>\n",
       "    </tr>\n",
       "    <tr>\n",
       "      <th>28</th>\n",
       "      <td>ACDEFGHIKLMNPQRSTVWY</td>\n",
       "      <td>0.6</td>\n",
       "      <td>0.968237</td>\n",
       "      <td>10 AA</td>\n",
       "    </tr>\n",
       "    <tr>\n",
       "      <th>34</th>\n",
       "      <td>ACDEFGHIKLMNPQRSTVWY</td>\n",
       "      <td>0.4</td>\n",
       "      <td>0.966206</td>\n",
       "      <td>10 AA</td>\n",
       "    </tr>\n",
       "    <tr>\n",
       "      <th>40</th>\n",
       "      <td>ACDEFGHIKLMNPQRSTVWY</td>\n",
       "      <td>0.3</td>\n",
       "      <td>0.74803</td>\n",
       "      <td>10 AA</td>\n",
       "    </tr>\n",
       "    <tr>\n",
       "      <th>46</th>\n",
       "      <td>ACDEFGHIKLMNPQRSTVWY</td>\n",
       "      <td>0.2</td>\n",
       "      <td>0.223081</td>\n",
       "      <td>10 AA</td>\n",
       "    </tr>\n",
       "  </tbody>\n",
       "</table>\n",
       "</div>"
      ],
      "text/plain": [
       "                known aa  max_prob identified_frac   Type\n",
       "16  ACDEFGHIKLMNPQRSTVWY       0.9        0.968485  10 AA\n",
       "22  ACDEFGHIKLMNPQRSTVWY       0.8        0.969377  10 AA\n",
       "28  ACDEFGHIKLMNPQRSTVWY       0.6        0.968237  10 AA\n",
       "34  ACDEFGHIKLMNPQRSTVWY       0.4        0.966206  10 AA\n",
       "40  ACDEFGHIKLMNPQRSTVWY       0.3         0.74803  10 AA\n",
       "46  ACDEFGHIKLMNPQRSTVWY       0.2        0.223081  10 AA"
      ]
     },
     "execution_count": 30,
     "metadata": {},
     "output_type": "execute_result"
    }
   ],
   "source": [
    "tt = all_results1[all_results1['max_prob'].apply(lambda x: x in posts)]\n",
    "tt[tt['Type'] == '10 AA']"
   ]
  },
  {
   "cell_type": "code",
   "execution_count": 34,
   "id": "7e279899",
   "metadata": {},
   "outputs": [
    {
     "data": {
      "text/plain": [
       "0.2618502551905257"
      ]
     },
     "execution_count": 34,
     "metadata": {},
     "output_type": "execute_result"
    }
   ],
   "source": [
    "tt = frag_full_all_aa[frag_full_all_aa['max_prob'].apply(lambda x: x in posts)]\n",
    "tt[(tt['Type'] == '10 AA') & (tt['max_prob'] == 0.3)]['identified_frac'].mean()"
   ]
  },
  {
   "cell_type": "code",
   "execution_count": 35,
   "id": "66ccf765",
   "metadata": {},
   "outputs": [
    {
     "data": {
      "text/plain": [
       "-0.486"
      ]
     },
     "execution_count": 35,
     "metadata": {},
     "output_type": "execute_result"
    }
   ],
   "source": [
    "0.262 - 0.748"
   ]
  },
  {
   "cell_type": "code",
   "execution_count": null,
   "id": "991540e0",
   "metadata": {},
   "outputs": [],
   "source": []
  },
  {
   "cell_type": "code",
   "execution_count": null,
   "id": "fc499904",
   "metadata": {},
   "outputs": [],
   "source": []
  },
  {
   "cell_type": "markdown",
   "id": "005103bd",
   "metadata": {},
   "source": [
    "#####  100 fragments (5AA) for pmax = 0.9 "
   ]
  },
  {
   "cell_type": "code",
   "execution_count": 339,
   "id": "9cc83d83",
   "metadata": {},
   "outputs": [
    {
     "name": "stdout",
     "output_type": "stream",
     "text": [
      "-rw-r--r-- 1 bikash goldmans  5.3K Feb 12 02:40 999_frag_length_5_ACDEFGHIKLMNPQRSTVWY_max_prob_0.9_del.pkl.gz\r\n",
      "-rw-r--r-- 1 bikash goldmans  4.6K Feb 12 02:30 998_frag_length_5_ACDEFGHIKLMNPQRSTVWY_max_prob_0.9_del.pkl.gz\r\n",
      "-rw-r--r-- 1 bikash goldmans  5.1K Feb 12 02:20 997_frag_length_5_ACDEFGHIKLMNPQRSTVWY_max_prob_0.9_del.pkl.gz\r\n",
      "-rw-r--r-- 1 bikash goldmans  5.1K Feb 12 02:11 996_frag_length_5_ACDEFGHIKLMNPQRSTVWY_max_prob_0.9_del.pkl.gz\r\n",
      "-rw-r--r-- 1 bikash goldmans  5.2K Feb 12 02:01 995_frag_length_5_ACDEFGHIKLMNPQRSTVWY_max_prob_0.9_del.pkl.gz\r\n",
      "-rw-r--r-- 1 bikash goldmans  5.3K Feb 12 01:51 994_frag_length_5_ACDEFGHIKLMNPQRSTVWY_max_prob_0.9_del.pkl.gz\r\n",
      "-rw-r--r-- 1 bikash goldmans  4.9K Feb 12 01:41 993_frag_length_5_ACDEFGHIKLMNPQRSTVWY_max_prob_0.9_del.pkl.gz\r\n",
      "-rw-r--r-- 1 bikash goldmans  4.1K Feb 12 01:32 992_frag_length_5_ACDEFGHIKLMNPQRSTVWY_max_prob_0.9_del.pkl.gz\r\n",
      "-rw-r--r-- 1 bikash goldmans  4.9K Feb 12 01:22 991_frag_length_5_ACDEFGHIKLMNPQRSTVWY_max_prob_0.9_del.pkl.gz\r\n",
      "-rw-r--r-- 1 bikash goldmans  4.9K Feb 12 01:12 990_frag_length_5_ACDEFGHIKLMNPQRSTVWY_max_prob_0.9_del.pkl.gz\r\n",
      "grep: write error: Broken pipe\r\n",
      "ls: write error: Broken pipe\r\n"
     ]
    }
   ],
   "source": [
    "! ls -lht results/scan_results | grep frag_length_5_ACDEFGHIKLMNPQRSTVWY_max_prob_0.9_del.pkl.gz | head -n 10"
   ]
  },
  {
   "cell_type": "code",
   "execution_count": 142,
   "id": "4fdeec2e",
   "metadata": {},
   "outputs": [
    {
     "data": {
      "text/plain": [
       "2.777777777777778"
      ]
     },
     "execution_count": 142,
     "metadata": {},
     "output_type": "execute_result"
    }
   ],
   "source": [
    "1000*4/60/24"
   ]
  },
  {
   "cell_type": "code",
   "execution_count": 94,
   "id": "93d27ad0",
   "metadata": {},
   "outputs": [
    {
     "name": "stdout",
     "output_type": "stream",
     "text": [
      "110\r"
     ]
    }
   ],
   "source": [
    "# Uncomment and run this first time\n",
    "length = 5\n",
    "prob = 0.9\n",
    "accs = []\n",
    "fragments = []\n",
    "\n",
    "for r in range(10, 120, 10):\n",
    "    try:\n",
    "        accs.append(stats_accuracy(prob, length, r))\n",
    "        fragments.append(r)\n",
    "        print(r, end='\\r')\n",
    "    except Exception:\n",
    "        break\n",
    "\n",
    "fiveaa_frag = pd.DataFrame({'Fragments (5AA length)': fragments, 'Accuracy': accs})\n",
    "fiveaa_frag.to_pickle('results/scan_results/fiveaa_fragments_combined_results.pkl.gz')"
   ]
  },
  {
   "cell_type": "code",
   "execution_count": 132,
   "id": "169fa6c8",
   "metadata": {},
   "outputs": [],
   "source": [
    "# fiveaa_frag = pd.DataFrame({'Fragments (5AA length)': fragments, 'Accuracy': accs})\n",
    "# fiveaa_frag.to_pickle('results/scan_results/fiveaa_fragments_combined_results.pkl.gz')"
   ]
  },
  {
   "cell_type": "code",
   "execution_count": null,
   "id": "44aa4b73",
   "metadata": {},
   "outputs": [],
   "source": [
    "fiveaa_frag = pd.read_pickle('results/scan_results/fiveaa_fragments_combined_results.pkl.gz')"
   ]
  },
  {
   "cell_type": "code",
   "execution_count": 274,
   "id": "c7083332",
   "metadata": {},
   "outputs": [
    {
     "data": {
      "text/plain": [
       "(0.9, 5)"
      ]
     },
     "execution_count": 274,
     "metadata": {},
     "output_type": "execute_result"
    }
   ],
   "source": [
    "# prob, length"
   ]
  },
  {
   "cell_type": "code",
   "execution_count": 340,
   "id": "fa6b96d4",
   "metadata": {},
   "outputs": [
    {
     "name": "stdout",
     "output_type": "stream",
     "text": [
      "990\r"
     ]
    }
   ],
   "source": [
    "for r in range(10, 1000, 10):\n",
    "    try:\n",
    "        if r not in fiveaa_frag['Fragments (5AA length)'].values:\n",
    "            print(r, end='\\r')\n",
    "            fiveaa_frag.loc[len(fiveaa_frag)] = [r, stats_accuracy(prob, length, r)]\n",
    "            \n",
    "    except Exception:\n",
    "        break\n",
    "\n",
    "fiveaa_frag.to_pickle('results/scan_results/fiveaa_fragments_combined_results.pkl.gz')"
   ]
  },
  {
   "cell_type": "code",
   "execution_count": 173,
   "id": "36411145",
   "metadata": {},
   "outputs": [],
   "source": [
    "# 110 in fiveaa_frag['Fragments (5AA length)'].values"
   ]
  },
  {
   "cell_type": "code",
   "execution_count": 344,
   "id": "5ed69555",
   "metadata": {},
   "outputs": [
    {
     "data": {
      "text/html": [
       "<div>\n",
       "<style scoped>\n",
       "    .dataframe tbody tr th:only-of-type {\n",
       "        vertical-align: middle;\n",
       "    }\n",
       "\n",
       "    .dataframe tbody tr th {\n",
       "        vertical-align: top;\n",
       "    }\n",
       "\n",
       "    .dataframe thead th {\n",
       "        text-align: right;\n",
       "    }\n",
       "</style>\n",
       "<table border=\"1\" class=\"dataframe\">\n",
       "  <thead>\n",
       "    <tr style=\"text-align: right;\">\n",
       "      <th></th>\n",
       "      <th>Fragments (5AA length)</th>\n",
       "      <th>Accuracy</th>\n",
       "    </tr>\n",
       "  </thead>\n",
       "  <tbody>\n",
       "    <tr>\n",
       "      <th>0</th>\n",
       "      <td>10.0</td>\n",
       "      <td>0.02</td>\n",
       "    </tr>\n",
       "    <tr>\n",
       "      <th>1</th>\n",
       "      <td>20.0</td>\n",
       "      <td>0.03</td>\n",
       "    </tr>\n",
       "    <tr>\n",
       "      <th>2</th>\n",
       "      <td>30.0</td>\n",
       "      <td>0.03</td>\n",
       "    </tr>\n",
       "    <tr>\n",
       "      <th>3</th>\n",
       "      <td>40.0</td>\n",
       "      <td>0.04</td>\n",
       "    </tr>\n",
       "    <tr>\n",
       "      <th>4</th>\n",
       "      <td>50.0</td>\n",
       "      <td>0.04</td>\n",
       "    </tr>\n",
       "    <tr>\n",
       "      <th>...</th>\n",
       "      <td>...</td>\n",
       "      <td>...</td>\n",
       "    </tr>\n",
       "    <tr>\n",
       "      <th>94</th>\n",
       "      <td>950.0</td>\n",
       "      <td>0.10</td>\n",
       "    </tr>\n",
       "    <tr>\n",
       "      <th>95</th>\n",
       "      <td>960.0</td>\n",
       "      <td>0.10</td>\n",
       "    </tr>\n",
       "    <tr>\n",
       "      <th>96</th>\n",
       "      <td>970.0</td>\n",
       "      <td>0.10</td>\n",
       "    </tr>\n",
       "    <tr>\n",
       "      <th>97</th>\n",
       "      <td>980.0</td>\n",
       "      <td>0.10</td>\n",
       "    </tr>\n",
       "    <tr>\n",
       "      <th>98</th>\n",
       "      <td>990.0</td>\n",
       "      <td>0.10</td>\n",
       "    </tr>\n",
       "  </tbody>\n",
       "</table>\n",
       "<p>99 rows × 2 columns</p>\n",
       "</div>"
      ],
      "text/plain": [
       "    Fragments (5AA length)  Accuracy\n",
       "0                     10.0      0.02\n",
       "1                     20.0      0.03\n",
       "2                     30.0      0.03\n",
       "3                     40.0      0.04\n",
       "4                     50.0      0.04\n",
       "..                     ...       ...\n",
       "94                   950.0      0.10\n",
       "95                   960.0      0.10\n",
       "96                   970.0      0.10\n",
       "97                   980.0      0.10\n",
       "98                   990.0      0.10\n",
       "\n",
       "[99 rows x 2 columns]"
      ]
     },
     "execution_count": 344,
     "metadata": {},
     "output_type": "execute_result"
    }
   ],
   "source": [
    "fiveaa_frag.round(2)"
   ]
  },
  {
   "cell_type": "code",
   "execution_count": 2,
   "id": "2397192f",
   "metadata": {},
   "outputs": [],
   "source": [
    "fiveaa_frag = pd.read_pickle('results/scan_results/fiveaa_fragments_combined_results.pkl.gz') "
   ]
  },
  {
   "cell_type": "code",
   "execution_count": 3,
   "id": "c075288f",
   "metadata": {},
   "outputs": [
    {
     "data": {
      "image/png": "[encoded data removed]",
      "text/plain": [
       "<Figure size 432x288 with 1 Axes>"
      ]
     },
     "metadata": {},
     "output_type": "display_data"
    }
   ],
   "source": [
    "ax = sns.lineplot(data=fiveaa_frag, x='Fragments (5AA length)', y='Accuracy', marker='o', \\\n",
    "                 markersize=6, lw=2.5,)\n",
    "ax.set_ylim(0, 1);\n",
    "ax.set_xlabel('Number of 5AA fragments')\n",
    "ax.set_ylabel('Accuracy');"
   ]
  },
  {
   "cell_type": "code",
   "execution_count": null,
   "id": "afef1c1a",
   "metadata": {},
   "outputs": [],
   "source": []
  },
  {
   "cell_type": "code",
   "execution_count": 31,
   "id": "d246c779",
   "metadata": {},
   "outputs": [
    {
     "data": {
      "image/png": "[encoded data removed]",
      "text/plain": [
       "<Figure size 432x288 with 1 Axes>"
      ]
     },
     "metadata": {},
     "output_type": "display_data"
    }
   ],
   "source": [
    "ax = sns.lineplot(data=fiveaa_frag, x='Fragments (5AA length)', y='Accuracy', marker='o', \\\n",
    "                 markersize=6, lw=2.5, )\n",
    "# ax.set_ylim(0, 1);\n",
    "# ax.set_xlabel('Number of 5AA fragments')\n",
    "# ax.set_ylabel('Accuracy');"
   ]
  },
  {
   "cell_type": "code",
   "execution_count": 32,
   "id": "0a650a8c",
   "metadata": {},
   "outputs": [
    {
     "data": {
      "image/png": "[encoded data removed]",
      "text/plain": [
       "<Figure size 432x288 with 1 Axes>"
      ]
     },
     "metadata": {},
     "output_type": "display_data"
    }
   ],
   "source": [
    "# plt.figure(figsize=(15, 4))\n",
    "ax = sns.lineplot(data=fiveaa_frag[0:], x='Fragments (5AA length)', y='Accuracy', marker='o', \\\n",
    "                 markersize=0, lw=2.5, )\n",
    "ax.set_xscale('log');\n",
    "# ax.set_ylim(0, 1);\n",
    "# ax.set_xlabel('Number of 5AA fragments')\n",
    "# ax.set_ylabel('Accuracy');"
   ]
  },
  {
   "cell_type": "code",
   "execution_count": null,
   "id": "16a061ba",
   "metadata": {},
   "outputs": [],
   "source": []
  },
  {
   "cell_type": "code",
   "execution_count": 78,
   "id": "c625ab77",
   "metadata": {},
   "outputs": [
    {
     "data": {
      "text/html": [
       "<div>\n",
       "<style scoped>\n",
       "    .dataframe tbody tr th:only-of-type {\n",
       "        vertical-align: middle;\n",
       "    }\n",
       "\n",
       "    .dataframe tbody tr th {\n",
       "        vertical-align: top;\n",
       "    }\n",
       "\n",
       "    .dataframe thead th {\n",
       "        text-align: right;\n",
       "    }\n",
       "</style>\n",
       "<table border=\"1\" class=\"dataframe\">\n",
       "  <thead>\n",
       "    <tr style=\"text-align: right;\">\n",
       "      <th></th>\n",
       "      <th>known aa</th>\n",
       "      <th>max_prob</th>\n",
       "      <th>identified_frac</th>\n",
       "      <th>Type</th>\n",
       "    </tr>\n",
       "  </thead>\n",
       "  <tbody>\n",
       "    <tr>\n",
       "      <th>5</th>\n",
       "      <td>ACDEFGHIKLMNPQRSTVWY</td>\n",
       "      <td>0.9</td>\n",
       "      <td>0.015856</td>\n",
       "      <td>5 AA</td>\n",
       "    </tr>\n",
       "  </tbody>\n",
       "</table>\n",
       "</div>"
      ],
      "text/plain": [
       "               known aa  max_prob  identified_frac  Type\n",
       "5  ACDEFGHIKLMNPQRSTVWY       0.9         0.015856  5 AA"
      ]
     },
     "execution_count": 78,
     "metadata": {},
     "output_type": "execute_result"
    }
   ],
   "source": [
    "all_results[(all_results['Type'] == '5 AA') & (all_results['max_prob'] == 0.9)]"
   ]
  },
  {
   "cell_type": "code",
   "execution_count": 82,
   "id": "0e0ba0ef",
   "metadata": {},
   "outputs": [
    {
     "data": {
      "text/plain": [
       "2.9063446014127146"
      ]
     },
     "execution_count": 82,
     "metadata": {},
     "output_type": "execute_result"
    }
   ],
   "source": [
    "(0.061939-0.015856)/0.015856"
   ]
  },
  {
   "cell_type": "code",
   "execution_count": null,
   "id": "5e45ca88",
   "metadata": {},
   "outputs": [],
   "source": []
  },
  {
   "cell_type": "code",
   "execution_count": null,
   "id": "ab44d0c6",
   "metadata": {},
   "outputs": [],
   "source": []
  },
  {
   "cell_type": "code",
   "execution_count": null,
   "id": "132244b6",
   "metadata": {},
   "outputs": [],
   "source": []
  }
 ],
 "metadata": {
  "kernelspec": {
   "display_name": "Python 3 (ipykernel)",
   "language": "python",
   "name": "python3"
  },
  "language_info": {
   "codemirror_mode": {
    "name": "ipython",
    "version": 3
   },
   "file_extension": ".py",
   "mimetype": "text/x-python",
   "name": "python",
   "nbconvert_exporter": "python",
   "pygments_lexer": "ipython3",
   "version": "3.9.7"
  }
 },
 "nbformat": 4,
 "nbformat_minor": 5
}

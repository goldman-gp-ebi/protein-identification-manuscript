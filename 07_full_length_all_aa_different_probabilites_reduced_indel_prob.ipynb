{
 "cells": [
  {
   "cell_type": "code",
   "execution_count": 1,
   "id": "695ff11e",
   "metadata": {},
   "outputs": [
    {
     "name": "stderr",
     "output_type": "stream",
     "text": [
      "<frozen importlib._bootstrap>:228: RuntimeWarning: scipy._lib.messagestream.MessageStream size changed, may indicate binary incompatibility. Expected 56 from C header, got 64 from PyObject\n"
     ]
    },
    {
     "name": "stdout",
     "output_type": "stream",
     "text": [
      "INFO: Pandarallel will run on 48 workers.\n",
      "INFO: Pandarallel will use Memory file system to transfer data between the main process and workers.\n"
     ]
    }
   ],
   "source": [
    "import shutil\n",
    "import pandas as pd\n",
    "import numpy as np\n",
    "from multiprocessing import Pool, cpu_count\n",
    "from functools import partial\n",
    "import matplotlib.pyplot as plt\n",
    "import seaborn as sns\n",
    "sns.set_context(\"paper\", font_scale=2.0)\n",
    "sns.set_style('whitegrid')\n",
    "\n",
    "# reduced indel probabilites in this file\n",
    "from functions2 import *\n",
    "\n",
    "from pandarallel import pandarallel\n",
    "\n",
    "pandarallel.initialize(progress_bar=False)\n",
    "\n",
    "with SequenceFile(\"data/uniprot-9606.fasta\", digital=True, alphabet=alphabet) as seq_file:\n",
    "    sequences = list(seq_file)\n",
    "    \n",
    "\n",
    "uniprot = fasta_reader('data/uniprot-9606.fasta')\n",
    "\n",
    "aa_known = 'ACDEFGHIKLMNPQRSTVWY'\n",
    "\n"
   ]
  },
  {
   "cell_type": "code",
   "execution_count": 22,
   "id": "b881ff8a",
   "metadata": {},
   "outputs": [
    {
     "name": "stdout",
     "output_type": "stream",
     "text": [
      "95 %%5 %95 %97 %95 %78 %87 %86 %87 %87 %88 %88 %90 %89 %89 %90 %91 %91 %91 %91 %94 %94 %93 %92 %94 %94 %94 %95 %94 %96 %97 %97 %31 %82 %89 %91 %92 %93 %93 %94 %94 %95 %98 %59 %84 %94 %95 %95 %95 %96 %96 %63 %94 %94 %95 %95 %95 %95 %95 %95 %95 %98 %77 %91 %93 %93 %94 %94 %94 %96 %88 %95 %95 %94 %94 %94 %95 %95 %95 %85 %90 %87 %87 %88 %88 %88 %90 %89 %89 %91 %91 %92 %94 %94 %94 %94 %94 %95 %95 %58 %83 %93 %93 %94 %94 %94 %94 %94 %94 %94 %95 %95 %55 %75 %80 %79 %93 %41 %23 %93 %95 %78 %87 %93 %89 %94 %95 %95 %96 %95 %95 %95 %95 %95 %95 %95 %95 %95 %96 %92 %79 %79 %94 %84 %54 %55 %80 %94 %95 %93 %94 %94 %98 %94 %95 %95 %95 %95 %95 %91 %93 %92 %96 %97 %91 %86 %95 %46 %95 %75 %92 %76 %94 %95 %95 %95 %96 %88 %80 %88 %\r"
     ]
    },
    {
     "name": "stderr",
     "output_type": "stream",
     "text": [
      "IOPub message rate exceeded.\n",
      "The notebook server will temporarily stop sending output\n",
      "to the client in order to avoid crashing it.\n",
      "To change this limit, set the config variable\n",
      "`--NotebookApp.iopub_msg_rate_limit`.\n",
      "\n",
      "Current values:\n",
      "NotebookApp.iopub_msg_rate_limit=1000.0 (msgs/sec)\n",
      "NotebookApp.rate_limit_window=3.0 (secs)\n",
      "\n"
     ]
    },
    {
     "name": "stdout",
     "output_type": "stream",
     "text": [
      "100 %1 %89 %94 %74 %10 %90 %78 %74 %\r"
     ]
    }
   ],
   "source": [
    "prob_range = [0.9, 0.8, 0.6, 0.4, 0.3, 0.2, 0.1, 0.09, 0.08, 0.07, 0.06, 0.05]\n",
    "\n",
    "\n",
    "\n",
    "for prob in prob_range:\n",
    "    temp_df = uniprot.copy()\n",
    "\n",
    "    temp_df['temp'] = temp_df.values.tolist() \n",
    "    temp_df['posteriors'] =  temp_df.temp.parallel_apply(\\\n",
    "                         lambda x: generate_reads(seq=x[1], aa_known=aa_known, max_prob=prob))\n",
    "\n",
    "\n",
    "    temp_df['temp1'] = temp_df[['Accession', 'posteriors']].values.tolist() \n",
    "    temp_df['hmm'] = temp_df.temp1.parallel_apply(\\\n",
    "             lambda x: hmm_build(x[1], x[0], f'full_length_{x[0]}_{aa_known}_max_prob_{prob}'))\n",
    "\n",
    "\n",
    "    hmms = np.array_split(temp_df.hmm, 10)\n",
    "    hmms = [i.tolist() for i in hmms]\n",
    "\n",
    "    results = []\n",
    "    for i, v in enumerate(hmms):\n",
    "        results.append(score(v, sequences, background))\n",
    "    #             print(f'\\t\\t\\t\\tdone: {i}', end='\\r')\n",
    "    fname = f'full_length_{aa_known}_max_prob_{prob}_del_reduced_indel_prob.pkl.gz'\n",
    "\n",
    "    res_df = pd.concat(results)\n",
    "    res_df.to_pickle('results/scan_results/' + fname)\n",
    "    del temp_df, res_df, hmms\n",
    "    shutil.rmtree('temp/', ignore_errors=True)\n",
    "    try:\n",
    "        os.makedirs('temp/')\n",
    "    except FileExistsError:\n",
    "        pass"
   ]
  },
  {
   "cell_type": "code",
   "execution_count": null,
   "id": "743d7ea1",
   "metadata": {},
   "outputs": [],
   "source": []
  },
  {
   "cell_type": "markdown",
   "id": "39c56c2e",
   "metadata": {},
   "source": [
    "#### plotting "
   ]
  },
  {
   "cell_type": "code",
   "execution_count": 2,
   "id": "d3959ed2",
   "metadata": {},
   "outputs": [],
   "source": [
    "aa_known = 'ACDEFGHIKLMNPQRSTVWY'\n",
    "prob_range = [0.9, 0.8, 0.6, 0.4, 0.2, 0.3, 0.1, 0.09, 0.08, 0.07, 0.06, 0.05]\n",
    "\n",
    "all_files = ['results/scan_results/' + f'full_length_{aa_known}_max_prob_{prob}_del_reduced_indel_prob.pkl.gz' \\\n",
    "             for prob in prob_range]\n",
    "result_dfs = [pd.read_pickle(i) for i in all_files]\n",
    "# total number of HMMS\n",
    "hmms = list(range(uniprot.shape[0]))"
   ]
  },
  {
   "cell_type": "code",
   "execution_count": 3,
   "id": "f69a2849",
   "metadata": {},
   "outputs": [
    {
     "data": {
      "text/html": [
       "<div>\n",
       "<style scoped>\n",
       "    .dataframe tbody tr th:only-of-type {\n",
       "        vertical-align: middle;\n",
       "    }\n",
       "\n",
       "    .dataframe tbody tr th {\n",
       "        vertical-align: top;\n",
       "    }\n",
       "\n",
       "    .dataframe thead th {\n",
       "        text-align: right;\n",
       "    }\n",
       "</style>\n",
       "<table border=\"1\" class=\"dataframe\">\n",
       "  <thead>\n",
       "    <tr style=\"text-align: right;\">\n",
       "      <th></th>\n",
       "      <th>known aa</th>\n",
       "      <th>max_prob</th>\n",
       "      <th>total queries</th>\n",
       "      <th>hits</th>\n",
       "      <th>identified</th>\n",
       "      <th>identified_frac</th>\n",
       "      <th>Type</th>\n",
       "    </tr>\n",
       "  </thead>\n",
       "  <tbody>\n",
       "    <tr>\n",
       "      <th>0</th>\n",
       "      <td>ACDEFGHIKLMNPQRSTVWY</td>\n",
       "      <td>0.90</td>\n",
       "      <td>20181</td>\n",
       "      <td>20179</td>\n",
       "      <td>19969</td>\n",
       "      <td>0.989495</td>\n",
       "      <td>low indel prob.</td>\n",
       "    </tr>\n",
       "    <tr>\n",
       "      <th>1</th>\n",
       "      <td>ACDEFGHIKLMNPQRSTVWY</td>\n",
       "      <td>0.80</td>\n",
       "      <td>20181</td>\n",
       "      <td>20179</td>\n",
       "      <td>19965</td>\n",
       "      <td>0.989297</td>\n",
       "      <td>low indel prob.</td>\n",
       "    </tr>\n",
       "    <tr>\n",
       "      <th>2</th>\n",
       "      <td>ACDEFGHIKLMNPQRSTVWY</td>\n",
       "      <td>0.60</td>\n",
       "      <td>20181</td>\n",
       "      <td>20179</td>\n",
       "      <td>19888</td>\n",
       "      <td>0.985481</td>\n",
       "      <td>low indel prob.</td>\n",
       "    </tr>\n",
       "    <tr>\n",
       "      <th>3</th>\n",
       "      <td>ACDEFGHIKLMNPQRSTVWY</td>\n",
       "      <td>0.40</td>\n",
       "      <td>20181</td>\n",
       "      <td>20179</td>\n",
       "      <td>19802</td>\n",
       "      <td>0.98122</td>\n",
       "      <td>low indel prob.</td>\n",
       "    </tr>\n",
       "    <tr>\n",
       "      <th>4</th>\n",
       "      <td>ACDEFGHIKLMNPQRSTVWY</td>\n",
       "      <td>0.20</td>\n",
       "      <td>20181</td>\n",
       "      <td>20180</td>\n",
       "      <td>19732</td>\n",
       "      <td>0.977751</td>\n",
       "      <td>low indel prob.</td>\n",
       "    </tr>\n",
       "    <tr>\n",
       "      <th>5</th>\n",
       "      <td>ACDEFGHIKLMNPQRSTVWY</td>\n",
       "      <td>0.30</td>\n",
       "      <td>20181</td>\n",
       "      <td>20178</td>\n",
       "      <td>19760</td>\n",
       "      <td>0.979139</td>\n",
       "      <td>low indel prob.</td>\n",
       "    </tr>\n",
       "    <tr>\n",
       "      <th>6</th>\n",
       "      <td>ACDEFGHIKLMNPQRSTVWY</td>\n",
       "      <td>0.10</td>\n",
       "      <td>20181</td>\n",
       "      <td>20144</td>\n",
       "      <td>19791</td>\n",
       "      <td>0.980675</td>\n",
       "      <td>low indel prob.</td>\n",
       "    </tr>\n",
       "    <tr>\n",
       "      <th>7</th>\n",
       "      <td>ACDEFGHIKLMNPQRSTVWY</td>\n",
       "      <td>0.09</td>\n",
       "      <td>20181</td>\n",
       "      <td>20146</td>\n",
       "      <td>19804</td>\n",
       "      <td>0.981319</td>\n",
       "      <td>low indel prob.</td>\n",
       "    </tr>\n",
       "    <tr>\n",
       "      <th>8</th>\n",
       "      <td>ACDEFGHIKLMNPQRSTVWY</td>\n",
       "      <td>0.08</td>\n",
       "      <td>20181</td>\n",
       "      <td>20141</td>\n",
       "      <td>19805</td>\n",
       "      <td>0.981369</td>\n",
       "      <td>low indel prob.</td>\n",
       "    </tr>\n",
       "    <tr>\n",
       "      <th>9</th>\n",
       "      <td>ACDEFGHIKLMNPQRSTVWY</td>\n",
       "      <td>0.07</td>\n",
       "      <td>20181</td>\n",
       "      <td>20148</td>\n",
       "      <td>19607</td>\n",
       "      <td>0.971557</td>\n",
       "      <td>low indel prob.</td>\n",
       "    </tr>\n",
       "    <tr>\n",
       "      <th>10</th>\n",
       "      <td>ACDEFGHIKLMNPQRSTVWY</td>\n",
       "      <td>0.06</td>\n",
       "      <td>20181</td>\n",
       "      <td>20158</td>\n",
       "      <td>16268</td>\n",
       "      <td>0.806105</td>\n",
       "      <td>low indel prob.</td>\n",
       "    </tr>\n",
       "    <tr>\n",
       "      <th>11</th>\n",
       "      <td>ACDEFGHIKLMNPQRSTVWY</td>\n",
       "      <td>0.05</td>\n",
       "      <td>20181</td>\n",
       "      <td>20161</td>\n",
       "      <td>2</td>\n",
       "      <td>0.000099</td>\n",
       "      <td>low indel prob.</td>\n",
       "    </tr>\n",
       "  </tbody>\n",
       "</table>\n",
       "</div>"
      ],
      "text/plain": [
       "                known aa  max_prob total queries   hits identified  \\\n",
       "0   ACDEFGHIKLMNPQRSTVWY      0.90         20181  20179      19969   \n",
       "1   ACDEFGHIKLMNPQRSTVWY      0.80         20181  20179      19965   \n",
       "2   ACDEFGHIKLMNPQRSTVWY      0.60         20181  20179      19888   \n",
       "3   ACDEFGHIKLMNPQRSTVWY      0.40         20181  20179      19802   \n",
       "4   ACDEFGHIKLMNPQRSTVWY      0.20         20181  20180      19732   \n",
       "5   ACDEFGHIKLMNPQRSTVWY      0.30         20181  20178      19760   \n",
       "6   ACDEFGHIKLMNPQRSTVWY      0.10         20181  20144      19791   \n",
       "7   ACDEFGHIKLMNPQRSTVWY      0.09         20181  20146      19804   \n",
       "8   ACDEFGHIKLMNPQRSTVWY      0.08         20181  20141      19805   \n",
       "9   ACDEFGHIKLMNPQRSTVWY      0.07         20181  20148      19607   \n",
       "10  ACDEFGHIKLMNPQRSTVWY      0.06         20181  20158      16268   \n",
       "11  ACDEFGHIKLMNPQRSTVWY      0.05         20181  20161          2   \n",
       "\n",
       "   identified_frac             Type  \n",
       "0         0.989495  low indel prob.  \n",
       "1         0.989297  low indel prob.  \n",
       "2         0.985481  low indel prob.  \n",
       "3          0.98122  low indel prob.  \n",
       "4         0.977751  low indel prob.  \n",
       "5         0.979139  low indel prob.  \n",
       "6         0.980675  low indel prob.  \n",
       "7         0.981319  low indel prob.  \n",
       "8         0.981369  low indel prob.  \n",
       "9         0.971557  low indel prob.  \n",
       "10        0.806105  low indel prob.  \n",
       "11        0.000099  low indel prob.  "
      ]
     },
     "execution_count": 3,
     "metadata": {},
     "output_type": "execute_result"
    }
   ],
   "source": [
    "plot_df = pd.DataFrame(columns=['known aa', 'max_prob', \\\n",
    "                                'total queries', 'hits',  'identified', ])\n",
    "\n",
    "for i, v in enumerate(result_dfs):\n",
    "    stats = gen_stats(hmms, v)\n",
    "    plot_df.loc[i] = [aa_known, prob_range[i], stats['Total queries'],\\\n",
    "                       stats['Hits'], stats['Identified'],]\n",
    "plot_df['identified_frac'] = plot_df['identified']/plot_df['total queries']\n",
    "plot_df['Type'] = 'low indel prob.'\n",
    "plot_df"
   ]
  },
  {
   "cell_type": "code",
   "execution_count": 4,
   "id": "30be1fec",
   "metadata": {},
   "outputs": [],
   "source": [
    "plot_df.to_pickle('results/full_length_all_p_max_reduced_indel_prob.pkl.gz')"
   ]
  },
  {
   "cell_type": "code",
   "execution_count": 5,
   "id": "9abbf8c0",
   "metadata": {},
   "outputs": [],
   "source": [
    "plot_df = pd.read_pickle('results/full_length_all_p_max_reduced_indel_prob.pkl.gz')"
   ]
  },
  {
   "cell_type": "code",
   "execution_count": 6,
   "id": "cce760e8",
   "metadata": {},
   "outputs": [],
   "source": [
    "plot_df1 = pd.read_pickle('results/full_length_all_p_max.pkl.gz')"
   ]
  },
  {
   "cell_type": "code",
   "execution_count": 7,
   "id": "d1d291d8",
   "metadata": {},
   "outputs": [],
   "source": [
    "new_df = pd.concat([plot_df1, plot_df, ])"
   ]
  },
  {
   "cell_type": "code",
   "execution_count": 10,
   "id": "5a1f5d4b",
   "metadata": {},
   "outputs": [
    {
     "data": {
      "image/png": "[encoded data removed]",
      "text/plain": [
       "<Figure size 576x288 with 1 Axes>"
      ]
     },
     "metadata": {},
     "output_type": "display_data"
    }
   ],
   "source": [
    "sns.set_context(\"paper\", font_scale=2)\n",
    "sns.set_style('ticks')\n",
    "from matplotlib.ticker import ScalarFormatter\n",
    "plt.figure(figsize=(8, 4))\n",
    "ax = sns.lineplot(data=new_df, \\\n",
    "                     x='max_prob', y='identified_frac', hue='Type', \\\n",
    "                  palette=\"Set1\", marker='o', markersize=8, lw=2,)\n",
    "ax.set_xscale('log')\n",
    "ax.set_xticks(plot_df['max_prob'].value_counts().index, )\n",
    "ax.tick_params(axis='x', rotation=90)\n",
    "ax.get_xaxis().set_major_formatter(ScalarFormatter())\n",
    "ax.set_xlabel(r'${p_{max}}$')\n",
    "ax.set_ylabel('Accuracy')\n",
    "plt.savefig('figs/fig1-logscale-reduced_indels.pdf');"
   ]
  },
  {
   "cell_type": "code",
   "execution_count": null,
   "id": "f8bbab77",
   "metadata": {},
   "outputs": [],
   "source": []
  },
  {
   "cell_type": "code",
   "execution_count": null,
   "id": "003c0a60",
   "metadata": {},
   "outputs": [],
   "source": []
  }
 ],
 "metadata": {
  "kernelspec": {
   "display_name": "Python 3 (ipykernel)",
   "language": "python",
   "name": "python3"
  },
  "language_info": {
   "codemirror_mode": {
    "name": "ipython",
    "version": 3
   },
   "file_extension": ".py",
   "mimetype": "text/x-python",
   "name": "python",
   "nbconvert_exporter": "python",
   "pygments_lexer": "ipython3",
   "version": "3.9.7"
  }
 },
 "nbformat": 4,
 "nbformat_minor": 5
}

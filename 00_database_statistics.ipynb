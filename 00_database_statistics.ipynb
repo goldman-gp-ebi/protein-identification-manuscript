{
 "cells": [
  {
   "cell_type": "markdown",
   "id": "c1f3d9e6",
   "metadata": {},
   "source": [
    "##### modules version"
   ]
  },
  {
   "cell_type": "code",
   "execution_count": 18,
   "id": "ee807378",
   "metadata": {},
   "outputs": [
    {
     "name": "stdout",
     "output_type": "stream",
     "text": [
      "pandas 1.3.4\n",
      "seaborn 0.12.2\n",
      "matplotlib 3.4.3\n",
      "numpy 1.22.3\n",
      "pyhmmer 0.6.3\n",
      "pandarallel 1.6.1\n",
      "# hmmsearch :: search profile(s) against a sequence database\r\n",
      "# HMMER 3.3.2 (Nov 2020); http://hmmer.org/\r\n",
      "# Copyright (C) 2020 Howard Hughes Medical Institute.\r\n",
      "# Freely distributed under the BSD open source license.\r\n",
      "# - - - - - - - - - - - - - - - - - - - - - - - - - - - - - - - - - - - -\r\n",
      "Usage: hmmsearch [options] <hmmfile> <seqdb>\r\n",
      "\r\n",
      "Basic options:\r\n",
      "  -h : show brief help on version and usage\r\n",
      "\r\n"
     ]
    }
   ],
   "source": [
    "import pandas as pd\n",
    "import seaborn as sns\n",
    "import matplotlib\n",
    "import numpy as np\n",
    "import pyhmmer\n",
    "import pandarallel\n",
    "\n",
    "for i in [pd, sns, matplotlib, np, pyhmmer, pandarallel]:\n",
    "    print(i.__name__, i.__version__)\n",
    "\n",
    "! hmmsearch -h | head -n 10"
   ]
  },
  {
   "cell_type": "code",
   "execution_count": 1,
   "id": "ebca73ba",
   "metadata": {},
   "outputs": [
    {
     "name": "stderr",
     "output_type": "stream",
     "text": [
      "<frozen importlib._bootstrap>:228: RuntimeWarning: scipy._lib.messagestream.MessageStream size changed, may indicate binary incompatibility. Expected 56 from C header, got 64 from PyObject\n"
     ]
    },
    {
     "data": {
      "text/plain": [
       "'0.6.3'"
      ]
     },
     "execution_count": 1,
     "metadata": {},
     "output_type": "execute_result"
    }
   ],
   "source": [
    "import pandas as pd\n",
    "import matplotlib.pyplot as plt\n",
    "import seaborn as sns\n",
    "sns.set_context(\"paper\", font_scale=2.0)\n",
    "sns.set_style('whitegrid')\n",
    "import numpy as np\n",
    "\n",
    "aa = 'FCYQLNGIPRADEHKMSTWV'\n",
    "\n",
    "\n",
    "import pyhmmer\n",
    "pyhmmer.__version__"
   ]
  },
  {
   "cell_type": "code",
   "execution_count": null,
   "id": "27c7563e",
   "metadata": {},
   "outputs": [],
   "source": []
  },
  {
   "cell_type": "code",
   "execution_count": 2,
   "id": "08eb9b5a",
   "metadata": {},
   "outputs": [
    {
     "data": {
      "text/html": [
       "<div>\n",
       "<style scoped>\n",
       "    .dataframe tbody tr th:only-of-type {\n",
       "        vertical-align: middle;\n",
       "    }\n",
       "\n",
       "    .dataframe tbody tr th {\n",
       "        vertical-align: top;\n",
       "    }\n",
       "\n",
       "    .dataframe thead th {\n",
       "        text-align: right;\n",
       "    }\n",
       "</style>\n",
       "<table border=\"1\" class=\"dataframe\">\n",
       "  <thead>\n",
       "    <tr style=\"text-align: right;\">\n",
       "      <th></th>\n",
       "      <th>Entry</th>\n",
       "      <th>Reviewed</th>\n",
       "      <th>Entry Name</th>\n",
       "      <th>Protein names</th>\n",
       "      <th>Gene Names</th>\n",
       "      <th>Organism</th>\n",
       "      <th>Length</th>\n",
       "      <th>Protein families</th>\n",
       "      <th>Subcellular location [CC]</th>\n",
       "      <th>PubMed ID</th>\n",
       "      <th>Sequence</th>\n",
       "    </tr>\n",
       "  </thead>\n",
       "  <tbody>\n",
       "    <tr>\n",
       "      <th>0</th>\n",
       "      <td>A0A087X1C5</td>\n",
       "      <td>reviewed</td>\n",
       "      <td>CP2D7_HUMAN</td>\n",
       "      <td>Putative cytochrome P450 2D7 (EC 1.14.14.1)</td>\n",
       "      <td>CYP2D7</td>\n",
       "      <td>Homo sapiens (Human)</td>\n",
       "      <td>515</td>\n",
       "      <td>Cytochrome P450 family</td>\n",
       "      <td>SUBCELLULAR LOCATION: Membrane {ECO:0000305}; ...</td>\n",
       "      <td>15051713; 10591208; 16169517; 17494644; 18838503</td>\n",
       "      <td>MGLEALVPLAMIVAIFLLLVDLMHRHQRWAARYPPGPLPLPGLGNL...</td>\n",
       "    </tr>\n",
       "    <tr>\n",
       "      <th>1</th>\n",
       "      <td>A0A0B4J2F0</td>\n",
       "      <td>reviewed</td>\n",
       "      <td>PIOS1_HUMAN</td>\n",
       "      <td>Protein PIGBOS1 (PIGB opposite strand protein 1)</td>\n",
       "      <td>PIGBOS1</td>\n",
       "      <td>Homo sapiens (Human)</td>\n",
       "      <td>54</td>\n",
       "      <td>NaN</td>\n",
       "      <td>SUBCELLULAR LOCATION: Mitochondrion outer memb...</td>\n",
       "      <td>14702039; 16572171; 31653868</td>\n",
       "      <td>MFRRLTFAQLLFATVLGIAGGVYIFQPVFEQYAKDQKELKEKMQLV...</td>\n",
       "    </tr>\n",
       "  </tbody>\n",
       "</table>\n",
       "</div>"
      ],
      "text/plain": [
       "        Entry  Reviewed   Entry Name  \\\n",
       "0  A0A087X1C5  reviewed  CP2D7_HUMAN   \n",
       "1  A0A0B4J2F0  reviewed  PIOS1_HUMAN   \n",
       "\n",
       "                                      Protein names Gene Names  \\\n",
       "0       Putative cytochrome P450 2D7 (EC 1.14.14.1)     CYP2D7   \n",
       "1  Protein PIGBOS1 (PIGB opposite strand protein 1)    PIGBOS1   \n",
       "\n",
       "               Organism  Length        Protein families  \\\n",
       "0  Homo sapiens (Human)     515  Cytochrome P450 family   \n",
       "1  Homo sapiens (Human)      54                     NaN   \n",
       "\n",
       "                           Subcellular location [CC]  \\\n",
       "0  SUBCELLULAR LOCATION: Membrane {ECO:0000305}; ...   \n",
       "1  SUBCELLULAR LOCATION: Mitochondrion outer memb...   \n",
       "\n",
       "                                          PubMed ID  \\\n",
       "0  15051713; 10591208; 16169517; 17494644; 18838503   \n",
       "1                      14702039; 16572171; 31653868   \n",
       "\n",
       "                                            Sequence  \n",
       "0  MGLEALVPLAMIVAIFLLLVDLMHRHQRWAARYPPGPLPLPGLGNL...  \n",
       "1  MFRRLTFAQLLFATVLGIAGGVYIFQPVFEQYAKDQKELKEKMQLV...  "
      ]
     },
     "execution_count": 2,
     "metadata": {},
     "output_type": "execute_result"
    }
   ],
   "source": [
    "db = 'data/uniprot-compressed_true_download_true_fields_accession_2Creviewed_2C-2022.10.24-11.09.16.67.tsv.gz'\n",
    "\n",
    "uniprot = pd.read_csv(db, sep='\\t')\n",
    "uniprot = uniprot[uniprot.Sequence.str.len() <= uniprot.Sequence.str.len().quantile(0.99)].copy()\n",
    "uniprot = uniprot.reset_index(drop=True)\n",
    "uniprot.Sequence = uniprot.Sequence.str.replace('U', 'C')\n",
    "uniprot.head(2)"
   ]
  },
  {
   "cell_type": "code",
   "execution_count": 3,
   "id": "a698bb3e",
   "metadata": {},
   "outputs": [
    {
     "data": {
      "text/plain": [
       "(20181, 11)"
      ]
     },
     "execution_count": 3,
     "metadata": {},
     "output_type": "execute_result"
    }
   ],
   "source": [
    "uniprot.shape"
   ]
  },
  {
   "cell_type": "code",
   "execution_count": 4,
   "id": "e82a5b67",
   "metadata": {},
   "outputs": [
    {
     "data": {
      "text/plain": [
       "(count    20181.000000\n",
       " mean       521.937070\n",
       " std        409.817688\n",
       " min          2.000000\n",
       " 25%        248.000000\n",
       " 50%        411.000000\n",
       " 75%        660.000000\n",
       " max       2723.000000\n",
       " Name: Length, dtype: float64,\n",
       " 411.0)"
      ]
     },
     "execution_count": 4,
     "metadata": {},
     "output_type": "execute_result"
    }
   ],
   "source": [
    "uniprot['Length'] = uniprot.Sequence.str.len()\n",
    "uniprot.Length.describe(), uniprot.Length.median()"
   ]
  },
  {
   "cell_type": "code",
   "execution_count": 10,
   "id": "b09f821c",
   "metadata": {},
   "outputs": [
    {
     "data": {
      "text/plain": [
       "(4, 11)"
      ]
     },
     "execution_count": 10,
     "metadata": {},
     "output_type": "execute_result"
    }
   ],
   "source": [
    "# uniprot[uniprot['Length'] < 15].shape"
   ]
  },
  {
   "cell_type": "markdown",
   "id": "bb75a292",
   "metadata": {},
   "source": [
    "#### Length distribution"
   ]
  },
  {
   "cell_type": "code",
   "execution_count": 6,
   "id": "917284cb",
   "metadata": {},
   "outputs": [
    {
     "data": {
      "image/png": "[encoded data removed]",
      "text/plain": [
       "<Figure size 288x288 with 1 Axes>"
      ]
     },
     "metadata": {},
     "output_type": "display_data"
    }
   ],
   "source": [
    "\n",
    "\n",
    "plt.figure(figsize=(4, 4))\n",
    "\n",
    "sns.rugplot(data=uniprot['Length'])\n",
    "ax = sns.histplot(data=uniprot['Length'], bins=200, element='step',\n",
    "                 kde=False)\n",
    "\n",
    "ax.set_xlabel('Sequence length')\n",
    "ax.set_xscale('log');"
   ]
  },
  {
   "cell_type": "markdown",
   "id": "48a619ca",
   "metadata": {},
   "source": [
    "### Frequency of AAs"
   ]
  },
  {
   "cell_type": "code",
   "execution_count": 7,
   "id": "06b23b7e",
   "metadata": {},
   "outputs": [],
   "source": [
    "from collections import Counter\n",
    "\n",
    "all_seqs = ''.join(uniprot.Sequence)\n",
    "counts = Counter(all_seqs)"
   ]
  },
  {
   "cell_type": "code",
   "execution_count": 8,
   "id": "e3c89f83",
   "metadata": {},
   "outputs": [
    {
     "data": {
      "image/png": "[encoded data removed]",
      "text/plain": [
       "<Figure size 288x288 with 1 Axes>"
      ]
     },
     "metadata": {},
     "output_type": "display_data"
    }
   ],
   "source": [
    "count_df = pd.DataFrame.from_dict(counts, orient='index')\n",
    "count_df = count_df.sort_values(0)\n",
    "count_df['Normalised\\nfrequency'] = count_df[0]/count_df[0].sum()\n",
    "\n",
    "plt.figure(figsize=(4, 4))\n",
    "\n",
    "ax = sns.barplot(data=count_df.reset_index(), x='index',\n",
    "                y='Normalised\\nfrequency', color='#1f77b4')\n",
    "ax.set_xlabel('Residue');"
   ]
  },
  {
   "cell_type": "code",
   "execution_count": 9,
   "id": "ace28bd6",
   "metadata": {},
   "outputs": [
    {
     "data": {
      "text/plain": [
       "'LSEAGPVKRTQDIFNYHCMW'"
      ]
     },
     "execution_count": 9,
     "metadata": {},
     "output_type": "execute_result"
    }
   ],
   "source": [
    "''.join(count_df.index[::-1])"
   ]
  },
  {
   "cell_type": "code",
   "execution_count": 10,
   "id": "83155f5f",
   "metadata": {},
   "outputs": [
    {
     "data": {
      "text/plain": [
       "['L',\n",
       " 'LS',\n",
       " 'LSE',\n",
       " 'LSEA',\n",
       " 'LSEAG',\n",
       " 'LSEAGP',\n",
       " 'LSEAGPV',\n",
       " 'LSEAGPVK',\n",
       " 'LSEAGPVKR',\n",
       " 'LSEAGPVKRT',\n",
       " 'LSEAGPVKRTQ',\n",
       " 'LSEAGPVKRTQD',\n",
       " 'LSEAGPVKRTQDI',\n",
       " 'LSEAGPVKRTQDIF',\n",
       " 'LSEAGPVKRTQDIFN',\n",
       " 'LSEAGPVKRTQDIFNY',\n",
       " 'LSEAGPVKRTQDIFNYH',\n",
       " 'LSEAGPVKRTQDIFNYHC',\n",
       " 'LSEAGPVKRTQDIFNYHCM',\n",
       " 'LSEAGPVKRTQDIFNYHCMW']"
      ]
     },
     "execution_count": 10,
     "metadata": {},
     "output_type": "execute_result"
    }
   ],
   "source": [
    "sorted_freq_aa = []\n",
    "\n",
    "temp_str = ''\n",
    "for i in'LSEAGPVKRTQDIFNYHCMW':\n",
    "    \n",
    "    temp_str += i\n",
    "    sorted_freq_aa.append(temp_str)\n",
    "sorted_freq_aa"
   ]
  },
  {
   "cell_type": "code",
   "execution_count": 11,
   "id": "5ec99018",
   "metadata": {},
   "outputs": [
    {
     "data": {
      "image/png": "[encoded data removed]",
      "text/plain": [
       "<Figure size 648x324 with 2 Axes>"
      ]
     },
     "metadata": {},
     "output_type": "display_data"
    }
   ],
   "source": [
    "fig, ax = plt.subplot_mosaic('AB', figsize=(9, 4.5))\n",
    "# ax = ax.flatten()\n",
    "\n",
    "sns.rugplot(data=uniprot['Length'], ax=ax['A'])\n",
    "sns.histplot(data=uniprot['Length'], bins=200, element='step',\n",
    "                 kde=False, ax=ax['A'])\n",
    "\n",
    "ax['A'].set_xlabel('Sequence length')\n",
    "ax['A'].set_xscale('log');\n",
    "\n",
    "\n",
    "sns.barplot(data=count_df.reset_index(), x='index',\n",
    "                y='Normalised\\nfrequency', color='#1f77b4', ax=ax['B'])\n",
    "ax['B'].set_xlabel('Residue')\n",
    "\n",
    "for n, (key, a) in enumerate(ax.items()):\n",
    "    a.text(-0.1, 1.1, key, transform=a.transAxes, \n",
    "            size=20, weight='bold')\n",
    "\n",
    "\n",
    "plt.tight_layout();"
   ]
  },
  {
   "cell_type": "code",
   "execution_count": null,
   "id": "6030b210",
   "metadata": {},
   "outputs": [],
   "source": []
  },
  {
   "cell_type": "markdown",
   "id": "1391fc75",
   "metadata": {},
   "source": [
    "### Export data"
   ]
  },
  {
   "cell_type": "code",
   "execution_count": 12,
   "id": "c04040f9",
   "metadata": {},
   "outputs": [
    {
     "data": {
      "text/plain": [
       "(20181, 2)"
      ]
     },
     "execution_count": 12,
     "metadata": {},
     "output_type": "execute_result"
    }
   ],
   "source": [
    "tmp_df = uniprot[['Entry', 'Sequence']].copy()\n",
    "tmp_df.Entry = '>' + tmp_df.Entry\n",
    "\n",
    "tmp_df.to_csv('data/uniprot-9606.fasta', header=None, \n",
    "              index=None, sep='\\n')\n",
    "tmp_df.shape"
   ]
  },
  {
   "cell_type": "code",
   "execution_count": 13,
   "id": "a40b0392",
   "metadata": {},
   "outputs": [
    {
     "name": "stdout",
     "output_type": "stream",
     "text": [
      ">A0A087X1C5\r\n",
      "MGLEALVPLAMIVAIFLLLVDLMHRHQRWAARYPPGPLPLPGLGNLLHVDFQNTPYCFDQLRRRFGDVFSLQLAWTPVVVLNGLAAVREAMVTRGEDTADRPPAPIYQVLGFGPRSQGVILSRYGPAWREQRRFSVSTLRNLGLGKKSLEQWVTEEAACLCAAFADQAGRPFRPNGLLDKAVSNVIASLTCGRRFEYDDPRFLRLLDLAQEGLKEESGFLREVLNAVPVLPHIPALAGKVLRFQKAFLTQLDELLTEHRMTWDPAQPPRDLTEAFLAKKEKAKGSPESSFNDENLRIVVGNLFLAGMVTTSTTLAWGLLLMILHLDVQRGRRVSPGCPIVGTHVCPVRVQQEIDDVIGQVRRPEMGDQAHMPCTTAVIHEVQHFGDIVPLGVTHMTSRDIEVQGFRIPKGTTLITNLSSVLKDEAVWKKPFRFHPEHFLDAQGHFVKPEAFLPFSAGRRACLGEPLARMELFLFFTSLLQHFSFSVAAGQPRPSHSRVVSFLVTPSPYELCAVPR\r\n",
      ">A0A0B4J2F0\r\n",
      "MFRRLTFAQLLFATVLGIAGGVYIFQPVFEQYAKDQKELKEKMQLVQESEEKKS\r\n",
      ">A0A0B4J2F2\r\n",
      "MVIMSEFSADPAGQGQGQQKPLRVGFYDIERTLGKGNFAVVKLARHRVTKTQVAIKIIDKTRLDSSNLEKIYREVQLMKLLNHPHIIKLYQVMETKDMLYIVTEFAKNGEMFDYLTSNGHLSENEARKKFWQILSAVEYCHDHHIVHRDLKTENLLLDGNMDIKLADFGFGNFYKSGEPLSTWCGSPPYAAPEVFEGKEYEGPQLDIWSLGVVLYVLVCGSLPFDGPNLPTLRQRVLEGRFRIPFFMSQDCESLIRRMLVVDPARRITIAQIRQHRWMRAEPCLPGPACPAFSAHSYTSNLGDYDEQALGIMQTLGVDRQRTVESLQNSSYNHFAAIYYLLLERLKEYRNAQCARPGPARQPRPRSSDLSGLEVPQEGLSTDPFRPALLCPQPQTLVQSVLQAEMDCELQSSLQWPLFFPVDASCSGVFRPRPVSPSSLLDTAISEEARQGPGLEEEQDTQESLPSSTGRRHTLAEVSTRLSPLTAPCIVVSPSTTASPAEGTSSDSCLTFSASKSPAGLSGTPATQGLLGACSPVRLASPFLGSQSATPVLQAQGGLGGAVLLPVSFQEGRRASDTSLTQGLKAFRQQLRKTTRTKGFLGLNKIKGLARQVCQVPASRASRGGLSPFHAPAQSPGLHGGAAGSREGWSLLEEVLEQQRLLQLQHHPAAAPGCSQAPQPAPAPFVIAPCDGPGAAPLPSTLLTSGLPLLPPPLLQTGASPVASAAQLLDTHLHIGTGPTALPAVPPPRLARLAPGCEPLGLLQGDCEMEDLMPCSLGTFVLVQ\r\n",
      ">A0A0C5B5G6\r\n",
      "MRWQEMGYIFYPRKLR\r\n",
      ">A0A0K2S4Q6\r\n",
      "MTQRAGAAMLPSALLLLCVPGCLTVSGPSTVMGAVGESLSVQCRYEEKYKTFNKYWCRQPCLPIWHEMVETGGSEGVVRSDQVIITDHPGDLTFTVTLENLTADDAGKYRCGIATILQEDGLSGFLPDPFFQVQVLVSSASSTENSVKTPASPTRPSQCQGSLPSSTCFLLLPLLKVPLLLSILGAILWVNRPWRTPWTES\r\n"
     ]
    }
   ],
   "source": [
    "! head data/uniprot-9606.fasta"
   ]
  },
  {
   "cell_type": "code",
   "execution_count": 13,
   "id": "2911b787",
   "metadata": {},
   "outputs": [
    {
     "data": {
      "text/plain": [
       "((20181, 11), (20385, 11))"
      ]
     },
     "execution_count": 13,
     "metadata": {},
     "output_type": "execute_result"
    }
   ],
   "source": [
    "uniprot.shape, pd.read_csv(db, sep='\\t').shape"
   ]
  },
  {
   "cell_type": "code",
   "execution_count": null,
   "id": "7aa74c72",
   "metadata": {},
   "outputs": [],
   "source": []
  },
  {
   "cell_type": "code",
   "execution_count": null,
   "id": "be892729",
   "metadata": {},
   "outputs": [],
   "source": []
  },
  {
   "cell_type": "code",
   "execution_count": null,
   "id": "5fcbb207",
   "metadata": {},
   "outputs": [],
   "source": []
  },
  {
   "cell_type": "code",
   "execution_count": null,
   "id": "1641c6c9",
   "metadata": {},
   "outputs": [],
   "source": []
  },
  {
   "cell_type": "code",
   "execution_count": null,
   "id": "6cc1f7e2",
   "metadata": {},
   "outputs": [],
   "source": []
  }
 ],
 "metadata": {
  "kernelspec": {
   "display_name": "Python 3 (ipykernel)",
   "language": "python",
   "name": "python3"
  },
  "language_info": {
   "codemirror_mode": {
    "name": "ipython",
    "version": 3
   },
   "file_extension": ".py",
   "mimetype": "text/x-python",
   "name": "python",
   "nbconvert_exporter": "python",
   "pygments_lexer": "ipython3",
   "version": "3.9.7"
  }
 },
 "nbformat": 4,
 "nbformat_minor": 5
}

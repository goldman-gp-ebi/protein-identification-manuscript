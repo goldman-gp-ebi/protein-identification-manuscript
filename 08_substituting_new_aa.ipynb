{
 "cells": [
  {
   "cell_type": "code",
   "execution_count": 2,
   "id": "84cbfa4e",
   "metadata": {},
   "outputs": [
    {
     "name": "stdout",
     "output_type": "stream",
     "text": [
      "INFO: Pandarallel will run on 48 workers.\n",
      "INFO: Pandarallel will use Memory file system to transfer data between the main process and workers.\n"
     ]
    }
   ],
   "source": [
    "import os\n",
    "import shutil\n",
    "import pandas as pd\n",
    "import numpy as np\n",
    "from multiprocessing import Pool, cpu_count\n",
    "from functools import partial\n",
    "import matplotlib.pyplot as plt\n",
    "import seaborn as sns\n",
    "sns.set_context(\"paper\", font_scale=2.0)\n",
    "sns.set_style('whitegrid')\n",
    "\n",
    "from functions import *\n",
    "\n",
    "from pandarallel import pandarallel\n",
    "\n",
    "pandarallel.initialize(progress_bar=False)\n",
    "\n",
    "with SequenceFile(\"data/uniprot-9606.fasta\", digital=True, alphabet=alphabet) as seq_file:\n",
    "    sequences = list(seq_file)\n",
    "\n",
    "\n",
    "uniprot = fasta_reader('data/uniprot-9606.fasta')"
   ]
  },
  {
   "cell_type": "code",
   "execution_count": 3,
   "id": "35a535cb",
   "metadata": {},
   "outputs": [],
   "source": [
    "def newaa(seq, ins_rate, random=12345, ):\n",
    "    aa = 'ACDEFGHIKLMNPQRSTVWY'\n",
    "    rnd = np.random.default_rng(random+ins_rate)\n",
    "    to_ins = rnd.choice(len(seq), ins_rate*len(seq)//100, replace=False)\n",
    "    new_seq = []\n",
    "    for i, v in enumerate(seq):\n",
    "        if i in to_ins:\n",
    "            # put a new AA at that place\n",
    "            rand_aa = rnd.choice(list([i for i in aa if i != v]))\n",
    "            new_seq.append(rand_aa)\n",
    "        else:\n",
    "            new_seq.append(v)\n",
    "\n",
    "    return ''.join(new_seq)\n",
    "\n",
    "\n",
    "def gen_reads_newaa(seq, aa_known, max_prob, newaa_rate, random,):\n",
    "#     seq0 = dels(seq, del_rate, random)\n",
    "    seq0 = seq\n",
    "    seq1 = newaa(seq0, newaa_rate, random,)\n",
    "    return generate_reads(seq1, aa_known, max_prob)"
   ]
  },
  {
   "cell_type": "code",
   "execution_count": 4,
   "id": "c7c98bf9",
   "metadata": {},
   "outputs": [],
   "source": [
    "aa_knowns = ['ACDEFGHIKLMNPQRSTVWY']\n",
    "\n",
    "prob_range = [0.8,]\n",
    "\n",
    "\n",
    "all_ratenewaa = [0, 10, 20, 30, 40, 50, 60]\n",
    "\n",
    "\n",
    "\n",
    "repeats = 1\n",
    "\n",
    "\n",
    "random = 0"
   ]
  },
  {
   "cell_type": "code",
   "execution_count": 5,
   "id": "1d40af91",
   "metadata": {},
   "outputs": [
    {
     "name": "stdout",
     "output_type": "stream",
     "text": [
      "100 %9 %99 %97 %98 %63 %63 %69 %86 %93 %95 %95 %89 %93 %93 %95 %95 %90 %92 %61 %84 %93 %94 %92 %89 %94 %95 %66 %94 %95 %93 %95 %95 %96 %98 %\r"
     ]
    }
   ],
   "source": [
    "aa_knowns = ['ACDEFGHIKLMNPQRSTVWY']\n",
    "\n",
    "prob_range = [0.8,]\n",
    "\n",
    "\n",
    "all_ratenewaa = [0, 10, 20, 30, 40, 50, 60]\n",
    "\n",
    "repeats = 1\n",
    "\n",
    "\n",
    "random = 0\n",
    "\n",
    "for a, b in enumerate(all_ratenewaa):\n",
    "    newaa_rate = b\n",
    "\n",
    "    for aa_known in aa_knowns:\n",
    "        for rep in range(repeats):\n",
    "#             random += ins_rate + del_rate + len(aa_knowns) + rep\n",
    "            random = 12345\n",
    "            for prob in prob_range:\n",
    "#                 fname = f'{rep}_full_length_{aa_known}_max_prob_{prob}_ins_{ins_rate}_del_{del_rate}_1_ins.pkl.gz'\n",
    "#                 if not os.path.isfile('results/scan_results/'+fname):\n",
    "                temp_df = uniprot.copy()\n",
    "                temp_df['temp'] = temp_df.values.tolist() \n",
    "                temp_df['posteriors'] =  temp_df.temp.parallel_apply(\\\n",
    "                                     lambda x: gen_reads_newaa(seq=x[1], aa_known=aa_known, max_prob=prob, \\\n",
    "                                                               newaa_rate=newaa_rate, random=random, ))\n",
    "\n",
    "\n",
    "                temp_df['temp1'] = temp_df[['Accession', 'posteriors']].values.tolist() \n",
    "                temp_df['hmm'] = temp_df.temp1.parallel_apply(\\\n",
    "                         lambda x: hmm_build(x[1], x[0], \\\n",
    "                     f'{rep}_full_length_{x[0]}_{aa_known}_max_prob_{prob}_newaa_rate_{newaa_rate}'))\n",
    "\n",
    "\n",
    "                hmms = np.array_split(temp_df.hmm, 10)\n",
    "                hmms = [i.tolist() for i in hmms]\n",
    "\n",
    "                results = []\n",
    "                for i, v in enumerate(hmms):\n",
    "                    results.append(score(v, sequences, background))\n",
    "                #             print(f'\\t\\t\\t\\tdone: {i}', end='\\r')\n",
    "                fname = f'{rep}_full_length_{aa_known}_max_prob_{prob}_newaa_rate_{newaa_rate}.pkl.gz'\n",
    "\n",
    "                res_df = pd.concat(results)\n",
    "                res_df.to_pickle('results/scan_results/' + fname)\n",
    "                del temp_df, res_df, hmms\n",
    "                shutil.rmtree('temp/', ignore_errors=True)\n",
    "                try:\n",
    "                    os.makedirs('temp/')\n",
    "                except FileExistsError:\n",
    "                    pass"
   ]
  },
  {
   "cell_type": "markdown",
   "id": "78988f77",
   "metadata": {},
   "source": [
    "#### Plot"
   ]
  },
  {
   "cell_type": "code",
   "execution_count": 6,
   "id": "b6d09b3e",
   "metadata": {},
   "outputs": [],
   "source": [
    "from glob import glob\n",
    "results = glob('results/scan_results/*.pkl.gz')"
   ]
  },
  {
   "cell_type": "code",
   "execution_count": 7,
   "id": "7350315a",
   "metadata": {},
   "outputs": [],
   "source": [
    "from glob import glob\n",
    "results = glob('results/scan_results/*.pkl.gz')\n",
    "res = [i for i in results if 'newaa_rate_' in i]\n",
    "# hmms = [i for i in results if 'entropy_results' in i]\n",
    "\n",
    "all_ratenewaa = [0, 10, 20, 30, 40, 50, 60]\n",
    "\n",
    "aa_knowns = ['ACDEFGHIKLMNPQRSTVWY']\n",
    "prob_range = [0.8,]\n",
    "repeats = 1\n",
    "\n",
    "\n",
    "\n",
    "heatmap_df = pd.DataFrame(columns=['substitution rate (%)', 'known aa', \\\n",
    "                                'total queries', 'hits',  'identified', 'Type'])\n",
    "\n",
    "\n",
    "idx = 0\n",
    "for rep in range(repeats):\n",
    "    for aa_known in aa_knowns:\n",
    "        for v in all_ratenewaa:\n",
    "            for prob in prob_range:\n",
    "                newaa_rate = v\n",
    "    #             print(idx, end='\\r')\n",
    "\n",
    "                fname = f'{rep}_full_length_{aa_known}_max_prob_{prob}_newaa_rate_{newaa_rate}.pkl.gz'\n",
    "\n",
    "                try:\n",
    "\n",
    "                    tmp0 = pd.read_pickle('results/scan_results/' + fname)\n",
    "                    tmp0 = tmp0.reset_index(drop=True)\n",
    "\n",
    "                    hmms = list(range(uniprot.shape[0]))\n",
    "\n",
    "                    stats = gen_stats(hmms, tmp0)\n",
    "\n",
    "                    heatmap_df.loc[idx] = [v, aa_known, stats['Total queries'], \\\n",
    "                                       stats['Hits'], stats['Identified'], 'Full length' ]\n",
    "                    idx += 1\n",
    "                    del tmp0\n",
    "                except Exception as exp:\n",
    "    #                 print(exp)\n",
    "                    pass\n",
    "heatmap_df['Accuracy'] = heatmap_df['identified']/heatmap_df['total queries']\n",
    "\n"
   ]
  },
  {
   "cell_type": "code",
   "execution_count": 8,
   "id": "2832e912",
   "metadata": {},
   "outputs": [
    {
     "data": {
      "text/html": [
       "<div>\n",
       "<style scoped>\n",
       "    .dataframe tbody tr th:only-of-type {\n",
       "        vertical-align: middle;\n",
       "    }\n",
       "\n",
       "    .dataframe tbody tr th {\n",
       "        vertical-align: top;\n",
       "    }\n",
       "\n",
       "    .dataframe thead th {\n",
       "        text-align: right;\n",
       "    }\n",
       "</style>\n",
       "<table border=\"1\" class=\"dataframe\">\n",
       "  <thead>\n",
       "    <tr style=\"text-align: right;\">\n",
       "      <th></th>\n",
       "      <th>substitution rate (%)</th>\n",
       "      <th>known aa</th>\n",
       "      <th>total queries</th>\n",
       "      <th>hits</th>\n",
       "      <th>identified</th>\n",
       "      <th>Type</th>\n",
       "      <th>Accuracy</th>\n",
       "    </tr>\n",
       "  </thead>\n",
       "  <tbody>\n",
       "    <tr>\n",
       "      <th>0</th>\n",
       "      <td>0</td>\n",
       "      <td>ACDEFGHIKLMNPQRSTVWY</td>\n",
       "      <td>20181</td>\n",
       "      <td>20179</td>\n",
       "      <td>19983</td>\n",
       "      <td>Full length</td>\n",
       "      <td>0.990189</td>\n",
       "    </tr>\n",
       "    <tr>\n",
       "      <th>1</th>\n",
       "      <td>10</td>\n",
       "      <td>ACDEFGHIKLMNPQRSTVWY</td>\n",
       "      <td>20181</td>\n",
       "      <td>20179</td>\n",
       "      <td>19998</td>\n",
       "      <td>Full length</td>\n",
       "      <td>0.990932</td>\n",
       "    </tr>\n",
       "    <tr>\n",
       "      <th>2</th>\n",
       "      <td>20</td>\n",
       "      <td>ACDEFGHIKLMNPQRSTVWY</td>\n",
       "      <td>20181</td>\n",
       "      <td>20177</td>\n",
       "      <td>19992</td>\n",
       "      <td>Full length</td>\n",
       "      <td>0.990635</td>\n",
       "    </tr>\n",
       "    <tr>\n",
       "      <th>3</th>\n",
       "      <td>30</td>\n",
       "      <td>ACDEFGHIKLMNPQRSTVWY</td>\n",
       "      <td>20181</td>\n",
       "      <td>20177</td>\n",
       "      <td>19995</td>\n",
       "      <td>Full length</td>\n",
       "      <td>0.990783</td>\n",
       "    </tr>\n",
       "    <tr>\n",
       "      <th>4</th>\n",
       "      <td>40</td>\n",
       "      <td>ACDEFGHIKLMNPQRSTVWY</td>\n",
       "      <td>20181</td>\n",
       "      <td>20168</td>\n",
       "      <td>19943</td>\n",
       "      <td>Full length</td>\n",
       "      <td>0.988207</td>\n",
       "    </tr>\n",
       "    <tr>\n",
       "      <th>5</th>\n",
       "      <td>50</td>\n",
       "      <td>ACDEFGHIKLMNPQRSTVWY</td>\n",
       "      <td>20181</td>\n",
       "      <td>20125</td>\n",
       "      <td>19812</td>\n",
       "      <td>Full length</td>\n",
       "      <td>0.981715</td>\n",
       "    </tr>\n",
       "    <tr>\n",
       "      <th>6</th>\n",
       "      <td>60</td>\n",
       "      <td>ACDEFGHIKLMNPQRSTVWY</td>\n",
       "      <td>20181</td>\n",
       "      <td>19726</td>\n",
       "      <td>19044</td>\n",
       "      <td>Full length</td>\n",
       "      <td>0.94366</td>\n",
       "    </tr>\n",
       "  </tbody>\n",
       "</table>\n",
       "</div>"
      ],
      "text/plain": [
       "  substitution rate (%)              known aa total queries   hits identified  \\\n",
       "0                     0  ACDEFGHIKLMNPQRSTVWY         20181  20179      19983   \n",
       "1                    10  ACDEFGHIKLMNPQRSTVWY         20181  20179      19998   \n",
       "2                    20  ACDEFGHIKLMNPQRSTVWY         20181  20177      19992   \n",
       "3                    30  ACDEFGHIKLMNPQRSTVWY         20181  20177      19995   \n",
       "4                    40  ACDEFGHIKLMNPQRSTVWY         20181  20168      19943   \n",
       "5                    50  ACDEFGHIKLMNPQRSTVWY         20181  20125      19812   \n",
       "6                    60  ACDEFGHIKLMNPQRSTVWY         20181  19726      19044   \n",
       "\n",
       "          Type  Accuracy  \n",
       "0  Full length  0.990189  \n",
       "1  Full length  0.990932  \n",
       "2  Full length  0.990635  \n",
       "3  Full length  0.990783  \n",
       "4  Full length  0.988207  \n",
       "5  Full length  0.981715  \n",
       "6  Full length   0.94366  "
      ]
     },
     "execution_count": 8,
     "metadata": {},
     "output_type": "execute_result"
    }
   ],
   "source": [
    "heatmap_df"
   ]
  },
  {
   "cell_type": "code",
   "execution_count": 9,
   "id": "ef0eed6f",
   "metadata": {},
   "outputs": [
    {
     "name": "stderr",
     "output_type": "stream",
     "text": [
      "/tmp/ipykernel_2129594/3726078271.py:18: UserWarning: Tight layout not applied. The left and right margins cannot be made large enough to accommodate all axes decorations. \n",
      "  plt.tight_layout()\n"
     ]
    },
    {
     "data": {
      "image/png": "[encoded data removed]",
      "text/plain": [
       "<Figure size 36x288 with 1 Axes>"
      ]
     },
     "metadata": {},
     "output_type": "display_data"
    }
   ],
   "source": [
    "sns.set_context(\"paper\", font_scale=1.8)\n",
    "sns.set_style('ticks')\n",
    "\n",
    "plot_df = pd.DataFrame(columns=all_ratenewaa)\n",
    "plot_df.loc[0] = heatmap_df['Accuracy'].values\n",
    "\n",
    "plt.figure(figsize=(0.5, 4))\n",
    "ax = sns.heatmap(data=plot_df.T, cmap='Blues', \n",
    "                    annot=True, fmt=\".2f\",\n",
    "                    vmin=0, vmax=1, annot_kws={\"size\":12}, \n",
    "#                  cbar_kws={\"shrink\": 0.5, \"pad\":1.1}\n",
    "                cbar=None\n",
    "                )\n",
    "ax.set_ylabel('Substitution (%)')\n",
    "# ax.set_yticklabels(' ')\n",
    "ax.set_xticklabels('');\n",
    "ax.invert_yaxis()\n",
    "plt.tight_layout()"
   ]
  },
  {
   "cell_type": "markdown",
   "id": "0c60d450",
   "metadata": {},
   "source": [
    "#### Results from insertion"
   ]
  },
  {
   "cell_type": "code",
   "execution_count": 10,
   "id": "6bea7ded",
   "metadata": {},
   "outputs": [],
   "source": [
    "full_length_error = pd.read_pickle('results/heatmap_df_full_length_1_ins_p_0.8.pkl.gz')"
   ]
  },
  {
   "cell_type": "code",
   "execution_count": 17,
   "id": "4c08eefc",
   "metadata": {},
   "outputs": [
    {
     "data": {
      "text/html": [
       "<div>\n",
       "<style scoped>\n",
       "    .dataframe tbody tr th:only-of-type {\n",
       "        vertical-align: middle;\n",
       "    }\n",
       "\n",
       "    .dataframe tbody tr th {\n",
       "        vertical-align: top;\n",
       "    }\n",
       "\n",
       "    .dataframe thead th {\n",
       "        text-align: right;\n",
       "    }\n",
       "</style>\n",
       "<table border=\"1\" class=\"dataframe\">\n",
       "  <thead>\n",
       "    <tr style=\"text-align: right;\">\n",
       "      <th></th>\n",
       "      <th>0</th>\n",
       "      <th>10</th>\n",
       "      <th>20</th>\n",
       "      <th>30</th>\n",
       "      <th>40</th>\n",
       "      <th>50</th>\n",
       "      <th>60</th>\n",
       "    </tr>\n",
       "  </thead>\n",
       "  <tbody>\n",
       "    <tr>\n",
       "      <th>0</th>\n",
       "      <td>0.990189</td>\n",
       "      <td>0.991477</td>\n",
       "      <td>0.991527</td>\n",
       "      <td>0.992865</td>\n",
       "      <td>0.993657</td>\n",
       "      <td>0.993905</td>\n",
       "      <td>0.984044</td>\n",
       "    </tr>\n",
       "  </tbody>\n",
       "</table>\n",
       "</div>"
      ],
      "text/plain": [
       "         0         10        20        30        40        50        60\n",
       "0  0.990189  0.991477  0.991527  0.992865  0.993657  0.993905  0.984044"
      ]
     },
     "execution_count": 17,
     "metadata": {},
     "output_type": "execute_result"
    }
   ],
   "source": [
    "plot_df_ = full_length_error[(full_length_error['known aa'] == 'ACDEFGHIKLMNPQRSTVWY') & \\\n",
    "                 (full_length_error['deletions'] == 0)][['precision']]\n",
    "plot_df1 = pd.DataFrame(columns=all_ratenewaa)\n",
    "plot_df1.loc[0] = plot_df_['precision'].values\n",
    "plot_df1"
   ]
  },
  {
   "cell_type": "code",
   "execution_count": 28,
   "id": "242d968a",
   "metadata": {},
   "outputs": [
    {
     "data": {
      "image/png": "[encoded data removed]",
      "text/plain": [
       "<Figure size 288x288 with 2 Axes>"
      ]
     },
     "metadata": {},
     "output_type": "display_data"
    }
   ],
   "source": [
    "sns.set_context(\"paper\", font_scale=1.8)\n",
    "sns.set_style('ticks')\n",
    "\n",
    "plot_df = pd.DataFrame(columns=all_ratenewaa)\n",
    "plot_df.loc[0] = heatmap_df['Accuracy'].values\n",
    "\n",
    "fig, ax = plt.subplots(nrows=1, ncols=2, figsize=(4, 4))\n",
    "\n",
    "# substitution\n",
    "sns.heatmap(data=plot_df.T, cmap='Blues', \n",
    "                    annot=True, fmt=\".2f\",\n",
    "                    vmin=0, vmax=1, annot_kws={\"size\":12}, \n",
    "#                  cbar_kws={\"shrink\": 0.5, \"pad\":1.1}\n",
    "                cbar=None, ax=ax[0]\n",
    "                )\n",
    "ax[0].set_ylabel('Substitution (%)')\n",
    "\n",
    "ax[0].set_xticklabels('');\n",
    "ax[0].invert_yaxis()\n",
    "\n",
    "# insertions\n",
    "sns.heatmap(data=plot_df1.T, cmap='Blues', \n",
    "                    annot=True, fmt=\".2f\",\n",
    "                    vmin=0, vmax=1, annot_kws={\"size\":12}, \n",
    "#                  cbar_kws={\"shrink\": 0.5, \"pad\":1.1}\n",
    "                cbar=None, ax=ax[1]\n",
    "                )\n",
    "ax[1].set_ylabel('Insertion (%)')\n",
    "\n",
    "ax[1].set_xticklabels('');\n",
    "ax[1].invert_yaxis()\n",
    "\n",
    "plt.subplots_adjust(hspace=1)\n",
    "\n",
    "plt.tight_layout()"
   ]
  },
  {
   "cell_type": "code",
   "execution_count": null,
   "id": "f16688d2",
   "metadata": {},
   "outputs": [],
   "source": []
  },
  {
   "cell_type": "code",
   "execution_count": null,
   "id": "15865b5d",
   "metadata": {},
   "outputs": [],
   "source": []
  }
 ],
 "metadata": {
  "kernelspec": {
   "display_name": "Python 3 (ipykernel)",
   "language": "python",
   "name": "python3"
  },
  "language_info": {
   "codemirror_mode": {
    "name": "ipython",
    "version": 3
   },
   "file_extension": ".py",
   "mimetype": "text/x-python",
   "name": "python",
   "nbconvert_exporter": "python",
   "pygments_lexer": "ipython3",
   "version": "3.9.7"
  }
 },
 "nbformat": 4,
 "nbformat_minor": 5
}
